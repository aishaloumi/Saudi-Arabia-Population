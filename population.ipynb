{
  "nbformat": 4,
  "nbformat_minor": 0,
  "metadata": {
    "colab": {
      "provenance": []
    },
    "kernelspec": {
      "name": "python3",
      "display_name": "Python 3"
    },
    "language_info": {
      "name": "python"
    }
  },
  "cells": [
    {
      "cell_type": "code",
      "execution_count": null,
      "metadata": {
        "id": "Kq2G7bEDx0Mj"
      },
      "outputs": [],
      "source": [
        "# Load the selected dataset into your preferred data analysis environment.\n",
        "import pandas as pd\n",
        "\n",
        "df = pd.read_csv('population.csv')\n"
      ]
    },
    {
      "cell_type": "code",
      "source": [
        "# Examine the first few rows of the dataset to understand its contents.\n",
        "df.head(10)"
      ],
      "metadata": {
        "id": "wWouWKdDyuxK",
        "outputId": "96b5026a-e210-4f4f-8d1f-58307fabc441",
        "colab": {
          "base_uri": "https://localhost:8080/",
          "height": 363
        }
      },
      "execution_count": null,
      "outputs": [
        {
          "output_type": "execute_result",
          "data": {
            "text/plain": [
              "  Age_Group  Age_Id  Gender Governorate Nationality Region   Pop\n",
              "0       0-4       0  Female        Abha   Non-Saudi  Aseer   215\n",
              "1       0-4       0  Female        Abha       Saudi  Aseer  2957\n",
              "2       0-4       0    Male        Abha   Non-Saudi  Aseer   195\n",
              "3       0-4       0    Male        Abha       Saudi  Aseer  2955\n",
              "4       0-4       0  Female   Abu Arish   Non-Saudi  Jazan   126\n",
              "5       0-4       0  Female   Abu Arish       Saudi  Jazan  1488\n",
              "6       0-4       0    Male   Abu Arish   Non-Saudi  Jazan   121\n",
              "7       0-4       0    Male   Abu Arish       Saudi  Jazan  1592\n",
              "8       0-4       0  Female     Ad Dair   Non-Saudi  Jazan     8\n",
              "9       0-4       0  Female     Ad Dair       Saudi  Jazan   378"
            ],
            "text/html": [
              "\n",
              "  <div id=\"df-ca7924e7-2333-4b57-95f6-af27c1c88704\" class=\"colab-df-container\">\n",
              "    <div>\n",
              "<style scoped>\n",
              "    .dataframe tbody tr th:only-of-type {\n",
              "        vertical-align: middle;\n",
              "    }\n",
              "\n",
              "    .dataframe tbody tr th {\n",
              "        vertical-align: top;\n",
              "    }\n",
              "\n",
              "    .dataframe thead th {\n",
              "        text-align: right;\n",
              "    }\n",
              "</style>\n",
              "<table border=\"1\" class=\"dataframe\">\n",
              "  <thead>\n",
              "    <tr style=\"text-align: right;\">\n",
              "      <th></th>\n",
              "      <th>Age_Group</th>\n",
              "      <th>Age_Id</th>\n",
              "      <th>Gender</th>\n",
              "      <th>Governorate</th>\n",
              "      <th>Nationality</th>\n",
              "      <th>Region</th>\n",
              "      <th>Pop</th>\n",
              "    </tr>\n",
              "  </thead>\n",
              "  <tbody>\n",
              "    <tr>\n",
              "      <th>0</th>\n",
              "      <td>0-4</td>\n",
              "      <td>0</td>\n",
              "      <td>Female</td>\n",
              "      <td>Abha</td>\n",
              "      <td>Non-Saudi</td>\n",
              "      <td>Aseer</td>\n",
              "      <td>215</td>\n",
              "    </tr>\n",
              "    <tr>\n",
              "      <th>1</th>\n",
              "      <td>0-4</td>\n",
              "      <td>0</td>\n",
              "      <td>Female</td>\n",
              "      <td>Abha</td>\n",
              "      <td>Saudi</td>\n",
              "      <td>Aseer</td>\n",
              "      <td>2957</td>\n",
              "    </tr>\n",
              "    <tr>\n",
              "      <th>2</th>\n",
              "      <td>0-4</td>\n",
              "      <td>0</td>\n",
              "      <td>Male</td>\n",
              "      <td>Abha</td>\n",
              "      <td>Non-Saudi</td>\n",
              "      <td>Aseer</td>\n",
              "      <td>195</td>\n",
              "    </tr>\n",
              "    <tr>\n",
              "      <th>3</th>\n",
              "      <td>0-4</td>\n",
              "      <td>0</td>\n",
              "      <td>Male</td>\n",
              "      <td>Abha</td>\n",
              "      <td>Saudi</td>\n",
              "      <td>Aseer</td>\n",
              "      <td>2955</td>\n",
              "    </tr>\n",
              "    <tr>\n",
              "      <th>4</th>\n",
              "      <td>0-4</td>\n",
              "      <td>0</td>\n",
              "      <td>Female</td>\n",
              "      <td>Abu Arish</td>\n",
              "      <td>Non-Saudi</td>\n",
              "      <td>Jazan</td>\n",
              "      <td>126</td>\n",
              "    </tr>\n",
              "    <tr>\n",
              "      <th>5</th>\n",
              "      <td>0-4</td>\n",
              "      <td>0</td>\n",
              "      <td>Female</td>\n",
              "      <td>Abu Arish</td>\n",
              "      <td>Saudi</td>\n",
              "      <td>Jazan</td>\n",
              "      <td>1488</td>\n",
              "    </tr>\n",
              "    <tr>\n",
              "      <th>6</th>\n",
              "      <td>0-4</td>\n",
              "      <td>0</td>\n",
              "      <td>Male</td>\n",
              "      <td>Abu Arish</td>\n",
              "      <td>Non-Saudi</td>\n",
              "      <td>Jazan</td>\n",
              "      <td>121</td>\n",
              "    </tr>\n",
              "    <tr>\n",
              "      <th>7</th>\n",
              "      <td>0-4</td>\n",
              "      <td>0</td>\n",
              "      <td>Male</td>\n",
              "      <td>Abu Arish</td>\n",
              "      <td>Saudi</td>\n",
              "      <td>Jazan</td>\n",
              "      <td>1592</td>\n",
              "    </tr>\n",
              "    <tr>\n",
              "      <th>8</th>\n",
              "      <td>0-4</td>\n",
              "      <td>0</td>\n",
              "      <td>Female</td>\n",
              "      <td>Ad Dair</td>\n",
              "      <td>Non-Saudi</td>\n",
              "      <td>Jazan</td>\n",
              "      <td>8</td>\n",
              "    </tr>\n",
              "    <tr>\n",
              "      <th>9</th>\n",
              "      <td>0-4</td>\n",
              "      <td>0</td>\n",
              "      <td>Female</td>\n",
              "      <td>Ad Dair</td>\n",
              "      <td>Saudi</td>\n",
              "      <td>Jazan</td>\n",
              "      <td>378</td>\n",
              "    </tr>\n",
              "  </tbody>\n",
              "</table>\n",
              "</div>\n",
              "    <div class=\"colab-df-buttons\">\n",
              "\n",
              "  <div class=\"colab-df-container\">\n",
              "    <button class=\"colab-df-convert\" onclick=\"convertToInteractive('df-ca7924e7-2333-4b57-95f6-af27c1c88704')\"\n",
              "            title=\"Convert this dataframe to an interactive table.\"\n",
              "            style=\"display:none;\">\n",
              "\n",
              "  <svg xmlns=\"http://www.w3.org/2000/svg\" height=\"24px\" viewBox=\"0 -960 960 960\">\n",
              "    <path d=\"M120-120v-720h720v720H120Zm60-500h600v-160H180v160Zm220 220h160v-160H400v160Zm0 220h160v-160H400v160ZM180-400h160v-160H180v160Zm440 0h160v-160H620v160ZM180-180h160v-160H180v160Zm440 0h160v-160H620v160Z\"/>\n",
              "  </svg>\n",
              "    </button>\n",
              "\n",
              "  <style>\n",
              "    .colab-df-container {\n",
              "      display:flex;\n",
              "      gap: 12px;\n",
              "    }\n",
              "\n",
              "    .colab-df-convert {\n",
              "      background-color: #E8F0FE;\n",
              "      border: none;\n",
              "      border-radius: 50%;\n",
              "      cursor: pointer;\n",
              "      display: none;\n",
              "      fill: #1967D2;\n",
              "      height: 32px;\n",
              "      padding: 0 0 0 0;\n",
              "      width: 32px;\n",
              "    }\n",
              "\n",
              "    .colab-df-convert:hover {\n",
              "      background-color: #E2EBFA;\n",
              "      box-shadow: 0px 1px 2px rgba(60, 64, 67, 0.3), 0px 1px 3px 1px rgba(60, 64, 67, 0.15);\n",
              "      fill: #174EA6;\n",
              "    }\n",
              "\n",
              "    .colab-df-buttons div {\n",
              "      margin-bottom: 4px;\n",
              "    }\n",
              "\n",
              "    [theme=dark] .colab-df-convert {\n",
              "      background-color: #3B4455;\n",
              "      fill: #D2E3FC;\n",
              "    }\n",
              "\n",
              "    [theme=dark] .colab-df-convert:hover {\n",
              "      background-color: #434B5C;\n",
              "      box-shadow: 0px 1px 3px 1px rgba(0, 0, 0, 0.15);\n",
              "      filter: drop-shadow(0px 1px 2px rgba(0, 0, 0, 0.3));\n",
              "      fill: #FFFFFF;\n",
              "    }\n",
              "  </style>\n",
              "\n",
              "    <script>\n",
              "      const buttonEl =\n",
              "        document.querySelector('#df-ca7924e7-2333-4b57-95f6-af27c1c88704 button.colab-df-convert');\n",
              "      buttonEl.style.display =\n",
              "        google.colab.kernel.accessAllowed ? 'block' : 'none';\n",
              "\n",
              "      async function convertToInteractive(key) {\n",
              "        const element = document.querySelector('#df-ca7924e7-2333-4b57-95f6-af27c1c88704');\n",
              "        const dataTable =\n",
              "          await google.colab.kernel.invokeFunction('convertToInteractive',\n",
              "                                                    [key], {});\n",
              "        if (!dataTable) return;\n",
              "\n",
              "        const docLinkHtml = 'Like what you see? Visit the ' +\n",
              "          '<a target=\"_blank\" href=https://colab.research.google.com/notebooks/data_table.ipynb>data table notebook</a>'\n",
              "          + ' to learn more about interactive tables.';\n",
              "        element.innerHTML = '';\n",
              "        dataTable['output_type'] = 'display_data';\n",
              "        await google.colab.output.renderOutput(dataTable, element);\n",
              "        const docLink = document.createElement('div');\n",
              "        docLink.innerHTML = docLinkHtml;\n",
              "        element.appendChild(docLink);\n",
              "      }\n",
              "    </script>\n",
              "  </div>\n",
              "\n",
              "\n",
              "<div id=\"df-82294499-fe6d-4a19-92fa-79d104f47b02\">\n",
              "  <button class=\"colab-df-quickchart\" onclick=\"quickchart('df-82294499-fe6d-4a19-92fa-79d104f47b02')\"\n",
              "            title=\"Suggest charts\"\n",
              "            style=\"display:none;\">\n",
              "\n",
              "<svg xmlns=\"http://www.w3.org/2000/svg\" height=\"24px\"viewBox=\"0 0 24 24\"\n",
              "     width=\"24px\">\n",
              "    <g>\n",
              "        <path d=\"M19 3H5c-1.1 0-2 .9-2 2v14c0 1.1.9 2 2 2h14c1.1 0 2-.9 2-2V5c0-1.1-.9-2-2-2zM9 17H7v-7h2v7zm4 0h-2V7h2v10zm4 0h-2v-4h2v4z\"/>\n",
              "    </g>\n",
              "</svg>\n",
              "  </button>\n",
              "\n",
              "<style>\n",
              "  .colab-df-quickchart {\n",
              "      --bg-color: #E8F0FE;\n",
              "      --fill-color: #1967D2;\n",
              "      --hover-bg-color: #E2EBFA;\n",
              "      --hover-fill-color: #174EA6;\n",
              "      --disabled-fill-color: #AAA;\n",
              "      --disabled-bg-color: #DDD;\n",
              "  }\n",
              "\n",
              "  [theme=dark] .colab-df-quickchart {\n",
              "      --bg-color: #3B4455;\n",
              "      --fill-color: #D2E3FC;\n",
              "      --hover-bg-color: #434B5C;\n",
              "      --hover-fill-color: #FFFFFF;\n",
              "      --disabled-bg-color: #3B4455;\n",
              "      --disabled-fill-color: #666;\n",
              "  }\n",
              "\n",
              "  .colab-df-quickchart {\n",
              "    background-color: var(--bg-color);\n",
              "    border: none;\n",
              "    border-radius: 50%;\n",
              "    cursor: pointer;\n",
              "    display: none;\n",
              "    fill: var(--fill-color);\n",
              "    height: 32px;\n",
              "    padding: 0;\n",
              "    width: 32px;\n",
              "  }\n",
              "\n",
              "  .colab-df-quickchart:hover {\n",
              "    background-color: var(--hover-bg-color);\n",
              "    box-shadow: 0 1px 2px rgba(60, 64, 67, 0.3), 0 1px 3px 1px rgba(60, 64, 67, 0.15);\n",
              "    fill: var(--button-hover-fill-color);\n",
              "  }\n",
              "\n",
              "  .colab-df-quickchart-complete:disabled,\n",
              "  .colab-df-quickchart-complete:disabled:hover {\n",
              "    background-color: var(--disabled-bg-color);\n",
              "    fill: var(--disabled-fill-color);\n",
              "    box-shadow: none;\n",
              "  }\n",
              "\n",
              "  .colab-df-spinner {\n",
              "    border: 2px solid var(--fill-color);\n",
              "    border-color: transparent;\n",
              "    border-bottom-color: var(--fill-color);\n",
              "    animation:\n",
              "      spin 1s steps(1) infinite;\n",
              "  }\n",
              "\n",
              "  @keyframes spin {\n",
              "    0% {\n",
              "      border-color: transparent;\n",
              "      border-bottom-color: var(--fill-color);\n",
              "      border-left-color: var(--fill-color);\n",
              "    }\n",
              "    20% {\n",
              "      border-color: transparent;\n",
              "      border-left-color: var(--fill-color);\n",
              "      border-top-color: var(--fill-color);\n",
              "    }\n",
              "    30% {\n",
              "      border-color: transparent;\n",
              "      border-left-color: var(--fill-color);\n",
              "      border-top-color: var(--fill-color);\n",
              "      border-right-color: var(--fill-color);\n",
              "    }\n",
              "    40% {\n",
              "      border-color: transparent;\n",
              "      border-right-color: var(--fill-color);\n",
              "      border-top-color: var(--fill-color);\n",
              "    }\n",
              "    60% {\n",
              "      border-color: transparent;\n",
              "      border-right-color: var(--fill-color);\n",
              "    }\n",
              "    80% {\n",
              "      border-color: transparent;\n",
              "      border-right-color: var(--fill-color);\n",
              "      border-bottom-color: var(--fill-color);\n",
              "    }\n",
              "    90% {\n",
              "      border-color: transparent;\n",
              "      border-bottom-color: var(--fill-color);\n",
              "    }\n",
              "  }\n",
              "</style>\n",
              "\n",
              "  <script>\n",
              "    async function quickchart(key) {\n",
              "      const quickchartButtonEl =\n",
              "        document.querySelector('#' + key + ' button');\n",
              "      quickchartButtonEl.disabled = true;  // To prevent multiple clicks.\n",
              "      quickchartButtonEl.classList.add('colab-df-spinner');\n",
              "      try {\n",
              "        const charts = await google.colab.kernel.invokeFunction(\n",
              "            'suggestCharts', [key], {});\n",
              "      } catch (error) {\n",
              "        console.error('Error during call to suggestCharts:', error);\n",
              "      }\n",
              "      quickchartButtonEl.classList.remove('colab-df-spinner');\n",
              "      quickchartButtonEl.classList.add('colab-df-quickchart-complete');\n",
              "    }\n",
              "    (() => {\n",
              "      let quickchartButtonEl =\n",
              "        document.querySelector('#df-82294499-fe6d-4a19-92fa-79d104f47b02 button');\n",
              "      quickchartButtonEl.style.display =\n",
              "        google.colab.kernel.accessAllowed ? 'block' : 'none';\n",
              "    })();\n",
              "  </script>\n",
              "</div>\n",
              "\n",
              "    </div>\n",
              "  </div>\n"
            ],
            "application/vnd.google.colaboratory.intrinsic+json": {
              "type": "dataframe",
              "variable_name": "df",
              "summary": "{\n  \"name\": \"df\",\n  \"rows\": 55817,\n  \"fields\": [\n    {\n      \"column\": \"Age_Group\",\n      \"properties\": {\n        \"dtype\": \"category\",\n        \"num_unique_values\": 21,\n        \"samples\": [\n          \"0-4\",\n          \"85-89\",\n          \"75-79\"\n        ],\n        \"semantic_type\": \"\",\n        \"description\": \"\"\n      }\n    },\n    {\n      \"column\": \"Age_Id\",\n      \"properties\": {\n        \"dtype\": \"number\",\n        \"std\": 28,\n        \"min\": 0,\n        \"max\": 110,\n        \"num_unique_values\": 111,\n        \"samples\": [\n          78,\n          10,\n          4\n        ],\n        \"semantic_type\": \"\",\n        \"description\": \"\"\n      }\n    },\n    {\n      \"column\": \"Gender\",\n      \"properties\": {\n        \"dtype\": \"category\",\n        \"num_unique_values\": 2,\n        \"samples\": [\n          \"Male\",\n          \"Female\"\n        ],\n        \"semantic_type\": \"\",\n        \"description\": \"\"\n      }\n    },\n    {\n      \"column\": \"Governorate\",\n      \"properties\": {\n        \"dtype\": \"category\",\n        \"num_unique_values\": 150,\n        \"samples\": [\n          \"Ash Shinan\",\n          \"Al Asyah\"\n        ],\n        \"semantic_type\": \"\",\n        \"description\": \"\"\n      }\n    },\n    {\n      \"column\": \"Nationality\",\n      \"properties\": {\n        \"dtype\": \"category\",\n        \"num_unique_values\": 2,\n        \"samples\": [\n          \"Saudi\",\n          \"Non-Saudi\"\n        ],\n        \"semantic_type\": \"\",\n        \"description\": \"\"\n      }\n    },\n    {\n      \"column\": \"Region\",\n      \"properties\": {\n        \"dtype\": \"category\",\n        \"num_unique_values\": 13,\n        \"samples\": [\n          \"Northern Borders\",\n          \"Al Madinah Al Munawwarah\"\n        ],\n        \"semantic_type\": \"\",\n        \"description\": \"\"\n      }\n    },\n    {\n      \"column\": \"Pop\",\n      \"properties\": {\n        \"dtype\": \"number\",\n        \"std\": 2856,\n        \"min\": 1,\n        \"max\": 106849,\n        \"num_unique_values\": 4239,\n        \"samples\": [\n          13627,\n          2061\n        ],\n        \"semantic_type\": \"\",\n        \"description\": \"\"\n      }\n    }\n  ]\n}"
            }
          },
          "metadata": {},
          "execution_count": 2
        }
      ]
    },
    {
      "cell_type": "code",
      "source": [
        "df = df.sample(10000)\n",
        "df"
      ],
      "metadata": {
        "id": "MgFGTkNB6sDh",
        "colab": {
          "base_uri": "https://localhost:8080/",
          "height": 423
        },
        "outputId": "70c7c2d9-340c-4061-f849-b3dac73bc207"
      },
      "execution_count": null,
      "outputs": [
        {
          "output_type": "execute_result",
          "data": {
            "text/plain": [
              "      Age_Group  Age_Id  Gender    Governorate Nationality  \\\n",
              "36891     60-64      61    Male   Uyun Al Jiwa   Non-Saudi   \n",
              "41017     65-69      69    Male  Al Bukayriyah   Non-Saudi   \n",
              "9052      15-19      15    Male    Al Majardah   Non-Saudi   \n",
              "47377     80-84      81  Female         Rabigh       Saudi   \n",
              "38914     65-69      65    Male       An Namas       Saudi   \n",
              "...         ...     ...     ...            ...         ...   \n",
              "6595      10-14      11  Female       Al Asyah       Saudi   \n",
              "52722     95-99      95  Female        Al Hait       Saudi   \n",
              "34799     55-59      58  Female        Ar Rayn   Non-Saudi   \n",
              "13165     20-24      22  Female        Al Mahd   Non-Saudi   \n",
              "40598     65-69      68  Female        Al Wajh       Saudi   \n",
              "\n",
              "                         Region  Pop  \n",
              "36891                 Al Qaseem   46  \n",
              "41017                 Al Qaseem   11  \n",
              "9052                      Aseer   11  \n",
              "47377      Makkah Al Mukarramah   34  \n",
              "38914                     Aseer   56  \n",
              "...                         ...  ...  \n",
              "6595                  Al Qaseem  311  \n",
              "52722                      Hail    7  \n",
              "34799                 Ar Riyadh    4  \n",
              "13165  Al Madinah Al Munawwarah    6  \n",
              "40598                     Tabuk   55  \n",
              "\n",
              "[10000 rows x 7 columns]"
            ],
            "text/html": [
              "\n",
              "  <div id=\"df-a296b16f-ac16-4854-9921-33ac32b97d72\" class=\"colab-df-container\">\n",
              "    <div>\n",
              "<style scoped>\n",
              "    .dataframe tbody tr th:only-of-type {\n",
              "        vertical-align: middle;\n",
              "    }\n",
              "\n",
              "    .dataframe tbody tr th {\n",
              "        vertical-align: top;\n",
              "    }\n",
              "\n",
              "    .dataframe thead th {\n",
              "        text-align: right;\n",
              "    }\n",
              "</style>\n",
              "<table border=\"1\" class=\"dataframe\">\n",
              "  <thead>\n",
              "    <tr style=\"text-align: right;\">\n",
              "      <th></th>\n",
              "      <th>Age_Group</th>\n",
              "      <th>Age_Id</th>\n",
              "      <th>Gender</th>\n",
              "      <th>Governorate</th>\n",
              "      <th>Nationality</th>\n",
              "      <th>Region</th>\n",
              "      <th>Pop</th>\n",
              "    </tr>\n",
              "  </thead>\n",
              "  <tbody>\n",
              "    <tr>\n",
              "      <th>36891</th>\n",
              "      <td>60-64</td>\n",
              "      <td>61</td>\n",
              "      <td>Male</td>\n",
              "      <td>Uyun Al Jiwa</td>\n",
              "      <td>Non-Saudi</td>\n",
              "      <td>Al Qaseem</td>\n",
              "      <td>46</td>\n",
              "    </tr>\n",
              "    <tr>\n",
              "      <th>41017</th>\n",
              "      <td>65-69</td>\n",
              "      <td>69</td>\n",
              "      <td>Male</td>\n",
              "      <td>Al Bukayriyah</td>\n",
              "      <td>Non-Saudi</td>\n",
              "      <td>Al Qaseem</td>\n",
              "      <td>11</td>\n",
              "    </tr>\n",
              "    <tr>\n",
              "      <th>9052</th>\n",
              "      <td>15-19</td>\n",
              "      <td>15</td>\n",
              "      <td>Male</td>\n",
              "      <td>Al Majardah</td>\n",
              "      <td>Non-Saudi</td>\n",
              "      <td>Aseer</td>\n",
              "      <td>11</td>\n",
              "    </tr>\n",
              "    <tr>\n",
              "      <th>47377</th>\n",
              "      <td>80-84</td>\n",
              "      <td>81</td>\n",
              "      <td>Female</td>\n",
              "      <td>Rabigh</td>\n",
              "      <td>Saudi</td>\n",
              "      <td>Makkah Al Mukarramah</td>\n",
              "      <td>34</td>\n",
              "    </tr>\n",
              "    <tr>\n",
              "      <th>38914</th>\n",
              "      <td>65-69</td>\n",
              "      <td>65</td>\n",
              "      <td>Male</td>\n",
              "      <td>An Namas</td>\n",
              "      <td>Saudi</td>\n",
              "      <td>Aseer</td>\n",
              "      <td>56</td>\n",
              "    </tr>\n",
              "    <tr>\n",
              "      <th>...</th>\n",
              "      <td>...</td>\n",
              "      <td>...</td>\n",
              "      <td>...</td>\n",
              "      <td>...</td>\n",
              "      <td>...</td>\n",
              "      <td>...</td>\n",
              "      <td>...</td>\n",
              "    </tr>\n",
              "    <tr>\n",
              "      <th>6595</th>\n",
              "      <td>10-14</td>\n",
              "      <td>11</td>\n",
              "      <td>Female</td>\n",
              "      <td>Al Asyah</td>\n",
              "      <td>Saudi</td>\n",
              "      <td>Al Qaseem</td>\n",
              "      <td>311</td>\n",
              "    </tr>\n",
              "    <tr>\n",
              "      <th>52722</th>\n",
              "      <td>95-99</td>\n",
              "      <td>95</td>\n",
              "      <td>Female</td>\n",
              "      <td>Al Hait</td>\n",
              "      <td>Saudi</td>\n",
              "      <td>Hail</td>\n",
              "      <td>7</td>\n",
              "    </tr>\n",
              "    <tr>\n",
              "      <th>34799</th>\n",
              "      <td>55-59</td>\n",
              "      <td>58</td>\n",
              "      <td>Female</td>\n",
              "      <td>Ar Rayn</td>\n",
              "      <td>Non-Saudi</td>\n",
              "      <td>Ar Riyadh</td>\n",
              "      <td>4</td>\n",
              "    </tr>\n",
              "    <tr>\n",
              "      <th>13165</th>\n",
              "      <td>20-24</td>\n",
              "      <td>22</td>\n",
              "      <td>Female</td>\n",
              "      <td>Al Mahd</td>\n",
              "      <td>Non-Saudi</td>\n",
              "      <td>Al Madinah Al Munawwarah</td>\n",
              "      <td>6</td>\n",
              "    </tr>\n",
              "    <tr>\n",
              "      <th>40598</th>\n",
              "      <td>65-69</td>\n",
              "      <td>68</td>\n",
              "      <td>Female</td>\n",
              "      <td>Al Wajh</td>\n",
              "      <td>Saudi</td>\n",
              "      <td>Tabuk</td>\n",
              "      <td>55</td>\n",
              "    </tr>\n",
              "  </tbody>\n",
              "</table>\n",
              "<p>10000 rows × 7 columns</p>\n",
              "</div>\n",
              "    <div class=\"colab-df-buttons\">\n",
              "\n",
              "  <div class=\"colab-df-container\">\n",
              "    <button class=\"colab-df-convert\" onclick=\"convertToInteractive('df-a296b16f-ac16-4854-9921-33ac32b97d72')\"\n",
              "            title=\"Convert this dataframe to an interactive table.\"\n",
              "            style=\"display:none;\">\n",
              "\n",
              "  <svg xmlns=\"http://www.w3.org/2000/svg\" height=\"24px\" viewBox=\"0 -960 960 960\">\n",
              "    <path d=\"M120-120v-720h720v720H120Zm60-500h600v-160H180v160Zm220 220h160v-160H400v160Zm0 220h160v-160H400v160ZM180-400h160v-160H180v160Zm440 0h160v-160H620v160ZM180-180h160v-160H180v160Zm440 0h160v-160H620v160Z\"/>\n",
              "  </svg>\n",
              "    </button>\n",
              "\n",
              "  <style>\n",
              "    .colab-df-container {\n",
              "      display:flex;\n",
              "      gap: 12px;\n",
              "    }\n",
              "\n",
              "    .colab-df-convert {\n",
              "      background-color: #E8F0FE;\n",
              "      border: none;\n",
              "      border-radius: 50%;\n",
              "      cursor: pointer;\n",
              "      display: none;\n",
              "      fill: #1967D2;\n",
              "      height: 32px;\n",
              "      padding: 0 0 0 0;\n",
              "      width: 32px;\n",
              "    }\n",
              "\n",
              "    .colab-df-convert:hover {\n",
              "      background-color: #E2EBFA;\n",
              "      box-shadow: 0px 1px 2px rgba(60, 64, 67, 0.3), 0px 1px 3px 1px rgba(60, 64, 67, 0.15);\n",
              "      fill: #174EA6;\n",
              "    }\n",
              "\n",
              "    .colab-df-buttons div {\n",
              "      margin-bottom: 4px;\n",
              "    }\n",
              "\n",
              "    [theme=dark] .colab-df-convert {\n",
              "      background-color: #3B4455;\n",
              "      fill: #D2E3FC;\n",
              "    }\n",
              "\n",
              "    [theme=dark] .colab-df-convert:hover {\n",
              "      background-color: #434B5C;\n",
              "      box-shadow: 0px 1px 3px 1px rgba(0, 0, 0, 0.15);\n",
              "      filter: drop-shadow(0px 1px 2px rgba(0, 0, 0, 0.3));\n",
              "      fill: #FFFFFF;\n",
              "    }\n",
              "  </style>\n",
              "\n",
              "    <script>\n",
              "      const buttonEl =\n",
              "        document.querySelector('#df-a296b16f-ac16-4854-9921-33ac32b97d72 button.colab-df-convert');\n",
              "      buttonEl.style.display =\n",
              "        google.colab.kernel.accessAllowed ? 'block' : 'none';\n",
              "\n",
              "      async function convertToInteractive(key) {\n",
              "        const element = document.querySelector('#df-a296b16f-ac16-4854-9921-33ac32b97d72');\n",
              "        const dataTable =\n",
              "          await google.colab.kernel.invokeFunction('convertToInteractive',\n",
              "                                                    [key], {});\n",
              "        if (!dataTable) return;\n",
              "\n",
              "        const docLinkHtml = 'Like what you see? Visit the ' +\n",
              "          '<a target=\"_blank\" href=https://colab.research.google.com/notebooks/data_table.ipynb>data table notebook</a>'\n",
              "          + ' to learn more about interactive tables.';\n",
              "        element.innerHTML = '';\n",
              "        dataTable['output_type'] = 'display_data';\n",
              "        await google.colab.output.renderOutput(dataTable, element);\n",
              "        const docLink = document.createElement('div');\n",
              "        docLink.innerHTML = docLinkHtml;\n",
              "        element.appendChild(docLink);\n",
              "      }\n",
              "    </script>\n",
              "  </div>\n",
              "\n",
              "\n",
              "<div id=\"df-6d01b7de-4d7f-445a-9971-19033a697de4\">\n",
              "  <button class=\"colab-df-quickchart\" onclick=\"quickchart('df-6d01b7de-4d7f-445a-9971-19033a697de4')\"\n",
              "            title=\"Suggest charts\"\n",
              "            style=\"display:none;\">\n",
              "\n",
              "<svg xmlns=\"http://www.w3.org/2000/svg\" height=\"24px\"viewBox=\"0 0 24 24\"\n",
              "     width=\"24px\">\n",
              "    <g>\n",
              "        <path d=\"M19 3H5c-1.1 0-2 .9-2 2v14c0 1.1.9 2 2 2h14c1.1 0 2-.9 2-2V5c0-1.1-.9-2-2-2zM9 17H7v-7h2v7zm4 0h-2V7h2v10zm4 0h-2v-4h2v4z\"/>\n",
              "    </g>\n",
              "</svg>\n",
              "  </button>\n",
              "\n",
              "<style>\n",
              "  .colab-df-quickchart {\n",
              "      --bg-color: #E8F0FE;\n",
              "      --fill-color: #1967D2;\n",
              "      --hover-bg-color: #E2EBFA;\n",
              "      --hover-fill-color: #174EA6;\n",
              "      --disabled-fill-color: #AAA;\n",
              "      --disabled-bg-color: #DDD;\n",
              "  }\n",
              "\n",
              "  [theme=dark] .colab-df-quickchart {\n",
              "      --bg-color: #3B4455;\n",
              "      --fill-color: #D2E3FC;\n",
              "      --hover-bg-color: #434B5C;\n",
              "      --hover-fill-color: #FFFFFF;\n",
              "      --disabled-bg-color: #3B4455;\n",
              "      --disabled-fill-color: #666;\n",
              "  }\n",
              "\n",
              "  .colab-df-quickchart {\n",
              "    background-color: var(--bg-color);\n",
              "    border: none;\n",
              "    border-radius: 50%;\n",
              "    cursor: pointer;\n",
              "    display: none;\n",
              "    fill: var(--fill-color);\n",
              "    height: 32px;\n",
              "    padding: 0;\n",
              "    width: 32px;\n",
              "  }\n",
              "\n",
              "  .colab-df-quickchart:hover {\n",
              "    background-color: var(--hover-bg-color);\n",
              "    box-shadow: 0 1px 2px rgba(60, 64, 67, 0.3), 0 1px 3px 1px rgba(60, 64, 67, 0.15);\n",
              "    fill: var(--button-hover-fill-color);\n",
              "  }\n",
              "\n",
              "  .colab-df-quickchart-complete:disabled,\n",
              "  .colab-df-quickchart-complete:disabled:hover {\n",
              "    background-color: var(--disabled-bg-color);\n",
              "    fill: var(--disabled-fill-color);\n",
              "    box-shadow: none;\n",
              "  }\n",
              "\n",
              "  .colab-df-spinner {\n",
              "    border: 2px solid var(--fill-color);\n",
              "    border-color: transparent;\n",
              "    border-bottom-color: var(--fill-color);\n",
              "    animation:\n",
              "      spin 1s steps(1) infinite;\n",
              "  }\n",
              "\n",
              "  @keyframes spin {\n",
              "    0% {\n",
              "      border-color: transparent;\n",
              "      border-bottom-color: var(--fill-color);\n",
              "      border-left-color: var(--fill-color);\n",
              "    }\n",
              "    20% {\n",
              "      border-color: transparent;\n",
              "      border-left-color: var(--fill-color);\n",
              "      border-top-color: var(--fill-color);\n",
              "    }\n",
              "    30% {\n",
              "      border-color: transparent;\n",
              "      border-left-color: var(--fill-color);\n",
              "      border-top-color: var(--fill-color);\n",
              "      border-right-color: var(--fill-color);\n",
              "    }\n",
              "    40% {\n",
              "      border-color: transparent;\n",
              "      border-right-color: var(--fill-color);\n",
              "      border-top-color: var(--fill-color);\n",
              "    }\n",
              "    60% {\n",
              "      border-color: transparent;\n",
              "      border-right-color: var(--fill-color);\n",
              "    }\n",
              "    80% {\n",
              "      border-color: transparent;\n",
              "      border-right-color: var(--fill-color);\n",
              "      border-bottom-color: var(--fill-color);\n",
              "    }\n",
              "    90% {\n",
              "      border-color: transparent;\n",
              "      border-bottom-color: var(--fill-color);\n",
              "    }\n",
              "  }\n",
              "</style>\n",
              "\n",
              "  <script>\n",
              "    async function quickchart(key) {\n",
              "      const quickchartButtonEl =\n",
              "        document.querySelector('#' + key + ' button');\n",
              "      quickchartButtonEl.disabled = true;  // To prevent multiple clicks.\n",
              "      quickchartButtonEl.classList.add('colab-df-spinner');\n",
              "      try {\n",
              "        const charts = await google.colab.kernel.invokeFunction(\n",
              "            'suggestCharts', [key], {});\n",
              "      } catch (error) {\n",
              "        console.error('Error during call to suggestCharts:', error);\n",
              "      }\n",
              "      quickchartButtonEl.classList.remove('colab-df-spinner');\n",
              "      quickchartButtonEl.classList.add('colab-df-quickchart-complete');\n",
              "    }\n",
              "    (() => {\n",
              "      let quickchartButtonEl =\n",
              "        document.querySelector('#df-6d01b7de-4d7f-445a-9971-19033a697de4 button');\n",
              "      quickchartButtonEl.style.display =\n",
              "        google.colab.kernel.accessAllowed ? 'block' : 'none';\n",
              "    })();\n",
              "  </script>\n",
              "</div>\n",
              "\n",
              "  <div id=\"id_cc1cd485-9116-4b71-91ec-c518e0684bec\">\n",
              "    <style>\n",
              "      .colab-df-generate {\n",
              "        background-color: #E8F0FE;\n",
              "        border: none;\n",
              "        border-radius: 50%;\n",
              "        cursor: pointer;\n",
              "        display: none;\n",
              "        fill: #1967D2;\n",
              "        height: 32px;\n",
              "        padding: 0 0 0 0;\n",
              "        width: 32px;\n",
              "      }\n",
              "\n",
              "      .colab-df-generate:hover {\n",
              "        background-color: #E2EBFA;\n",
              "        box-shadow: 0px 1px 2px rgba(60, 64, 67, 0.3), 0px 1px 3px 1px rgba(60, 64, 67, 0.15);\n",
              "        fill: #174EA6;\n",
              "      }\n",
              "\n",
              "      [theme=dark] .colab-df-generate {\n",
              "        background-color: #3B4455;\n",
              "        fill: #D2E3FC;\n",
              "      }\n",
              "\n",
              "      [theme=dark] .colab-df-generate:hover {\n",
              "        background-color: #434B5C;\n",
              "        box-shadow: 0px 1px 3px 1px rgba(0, 0, 0, 0.15);\n",
              "        filter: drop-shadow(0px 1px 2px rgba(0, 0, 0, 0.3));\n",
              "        fill: #FFFFFF;\n",
              "      }\n",
              "    </style>\n",
              "    <button class=\"colab-df-generate\" onclick=\"generateWithVariable('df')\"\n",
              "            title=\"Generate code using this dataframe.\"\n",
              "            style=\"display:none;\">\n",
              "\n",
              "  <svg xmlns=\"http://www.w3.org/2000/svg\" height=\"24px\"viewBox=\"0 0 24 24\"\n",
              "       width=\"24px\">\n",
              "    <path d=\"M7,19H8.4L18.45,9,17,7.55,7,17.6ZM5,21V16.75L18.45,3.32a2,2,0,0,1,2.83,0l1.4,1.43a1.91,1.91,0,0,1,.58,1.4,1.91,1.91,0,0,1-.58,1.4L9.25,21ZM18.45,9,17,7.55Zm-12,3A5.31,5.31,0,0,0,4.9,8.1,5.31,5.31,0,0,0,1,6.5,5.31,5.31,0,0,0,4.9,4.9,5.31,5.31,0,0,0,6.5,1,5.31,5.31,0,0,0,8.1,4.9,5.31,5.31,0,0,0,12,6.5,5.46,5.46,0,0,0,6.5,12Z\"/>\n",
              "  </svg>\n",
              "    </button>\n",
              "    <script>\n",
              "      (() => {\n",
              "      const buttonEl =\n",
              "        document.querySelector('#id_cc1cd485-9116-4b71-91ec-c518e0684bec button.colab-df-generate');\n",
              "      buttonEl.style.display =\n",
              "        google.colab.kernel.accessAllowed ? 'block' : 'none';\n",
              "\n",
              "      buttonEl.onclick = () => {\n",
              "        google.colab.notebook.generateWithVariable('df');\n",
              "      }\n",
              "      })();\n",
              "    </script>\n",
              "  </div>\n",
              "\n",
              "    </div>\n",
              "  </div>\n"
            ],
            "application/vnd.google.colaboratory.intrinsic+json": {
              "type": "dataframe",
              "variable_name": "df",
              "summary": "{\n  \"name\": \"df\",\n  \"rows\": 10000,\n  \"fields\": [\n    {\n      \"column\": \"Age_Group\",\n      \"properties\": {\n        \"dtype\": \"category\",\n        \"num_unique_values\": 21,\n        \"samples\": [\n          \"60-64\",\n          \"35-39\",\n          \"45-49\"\n        ],\n        \"semantic_type\": \"\",\n        \"description\": \"\"\n      }\n    },\n    {\n      \"column\": \"Age_Id\",\n      \"properties\": {\n        \"dtype\": \"number\",\n        \"std\": 28,\n        \"min\": 0,\n        \"max\": 110,\n        \"num_unique_values\": 111,\n        \"samples\": [\n          75,\n          85,\n          65\n        ],\n        \"semantic_type\": \"\",\n        \"description\": \"\"\n      }\n    },\n    {\n      \"column\": \"Gender\",\n      \"properties\": {\n        \"dtype\": \"category\",\n        \"num_unique_values\": 2,\n        \"samples\": [\n          \"Female\",\n          \"Male\"\n        ],\n        \"semantic_type\": \"\",\n        \"description\": \"\"\n      }\n    },\n    {\n      \"column\": \"Governorate\",\n      \"properties\": {\n        \"dtype\": \"category\",\n        \"num_unique_values\": 150,\n        \"samples\": [\n          \"Duba\",\n          \"Al Taif\"\n        ],\n        \"semantic_type\": \"\",\n        \"description\": \"\"\n      }\n    },\n    {\n      \"column\": \"Nationality\",\n      \"properties\": {\n        \"dtype\": \"category\",\n        \"num_unique_values\": 2,\n        \"samples\": [\n          \"Saudi\",\n          \"Non-Saudi\"\n        ],\n        \"semantic_type\": \"\",\n        \"description\": \"\"\n      }\n    },\n    {\n      \"column\": \"Region\",\n      \"properties\": {\n        \"dtype\": \"category\",\n        \"num_unique_values\": 13,\n        \"samples\": [\n          \"Najran\",\n          \"Al Bahah\"\n        ],\n        \"semantic_type\": \"\",\n        \"description\": \"\"\n      }\n    },\n    {\n      \"column\": \"Pop\",\n      \"properties\": {\n        \"dtype\": \"number\",\n        \"std\": 2584,\n        \"min\": 1,\n        \"max\": 106849,\n        \"num_unique_values\": 1606,\n        \"samples\": [\n          534,\n          630\n        ],\n        \"semantic_type\": \"\",\n        \"description\": \"\"\n      }\n    }\n  ]\n}"
            }
          },
          "metadata": {},
          "execution_count": 37
        }
      ]
    },
    {
      "cell_type": "code",
      "source": [
        "# Explore the structure of the dataset (number of rows and columns, data types, etc.).\n",
        "df.dtypes"
      ],
      "metadata": {
        "id": "k8yb1dzx0inD",
        "colab": {
          "base_uri": "https://localhost:8080/"
        },
        "outputId": "1a92be86-6c57-4614-ca09-ca182af3892a"
      },
      "execution_count": null,
      "outputs": [
        {
          "output_type": "execute_result",
          "data": {
            "text/plain": [
              "Age_Group      object\n",
              "Age_Id          int64\n",
              "Gender         object\n",
              "Governorate    object\n",
              "Nationality    object\n",
              "Region         object\n",
              "Pop             int64\n",
              "dtype: object"
            ]
          },
          "metadata": {},
          "execution_count": 38
        }
      ]
    },
    {
      "cell_type": "code",
      "source": [
        "df.shape"
      ],
      "metadata": {
        "id": "p1TUR_-lAL1C",
        "colab": {
          "base_uri": "https://localhost:8080/"
        },
        "outputId": "fddbbbb2-fe86-40fb-f064-a41a30f869d0"
      },
      "execution_count": null,
      "outputs": [
        {
          "output_type": "execute_result",
          "data": {
            "text/plain": [
              "(10000, 7)"
            ]
          },
          "metadata": {},
          "execution_count": 39
        }
      ]
    },
    {
      "cell_type": "code",
      "source": [
        "df.columns"
      ],
      "metadata": {
        "id": "R37VzdFAAQ-c",
        "colab": {
          "base_uri": "https://localhost:8080/"
        },
        "outputId": "5f1bb4fa-38eb-4325-c400-70fb4b6fe855"
      },
      "execution_count": null,
      "outputs": [
        {
          "output_type": "execute_result",
          "data": {
            "text/plain": [
              "Index(['Age_Group', 'Age_Id', 'Gender', 'Governorate', 'Nationality', 'Region',\n",
              "       'Pop'],\n",
              "      dtype='object')"
            ]
          },
          "metadata": {},
          "execution_count": 40
        }
      ]
    },
    {
      "cell_type": "code",
      "source": [
        "df.index"
      ],
      "metadata": {
        "id": "LFlLdd3oAZhn",
        "colab": {
          "base_uri": "https://localhost:8080/"
        },
        "outputId": "8e9be26d-027c-4893-ac85-845ba364974c"
      },
      "execution_count": null,
      "outputs": [
        {
          "output_type": "execute_result",
          "data": {
            "text/plain": [
              "Int64Index([36891, 41017,  9052, 47377, 38914, 34980, 52510, 46469,   156,\n",
              "            11209,\n",
              "            ...\n",
              "            36419, 12965,  1628,   522, 11401,  6595, 52722, 34799, 13165,\n",
              "            40598],\n",
              "           dtype='int64', length=10000)"
            ]
          },
          "metadata": {},
          "execution_count": 41
        }
      ]
    },
    {
      "cell_type": "code",
      "source": [
        "# Check for and handle any duplicate entries.\n",
        "df.duplicated()"
      ],
      "metadata": {
        "id": "FzFxtPT675BM",
        "colab": {
          "base_uri": "https://localhost:8080/"
        },
        "outputId": "d72b14c6-2646-4ab2-9db5-e4bd733beed9"
      },
      "execution_count": null,
      "outputs": [
        {
          "output_type": "execute_result",
          "data": {
            "text/plain": [
              "36891    False\n",
              "41017    False\n",
              "9052     False\n",
              "47377    False\n",
              "38914    False\n",
              "         ...  \n",
              "6595     False\n",
              "52722    False\n",
              "34799    False\n",
              "13165    False\n",
              "40598    False\n",
              "Length: 10000, dtype: bool"
            ]
          },
          "metadata": {},
          "execution_count": 42
        }
      ]
    },
    {
      "cell_type": "code",
      "source": [
        "df.duplicated().sum()"
      ],
      "metadata": {
        "id": "Vntt0So6DA2C",
        "colab": {
          "base_uri": "https://localhost:8080/"
        },
        "outputId": "1929be15-4513-471b-c375-c367c29e0efd"
      },
      "execution_count": null,
      "outputs": [
        {
          "output_type": "execute_result",
          "data": {
            "text/plain": [
              "0"
            ]
          },
          "metadata": {},
          "execution_count": 43
        }
      ]
    },
    {
      "cell_type": "code",
      "source": [
        "# Handle missing values appropriately\n",
        "df.isnull().sum()"
      ],
      "metadata": {
        "id": "18eQ4_JB5OuH",
        "colab": {
          "base_uri": "https://localhost:8080/"
        },
        "outputId": "cf66b1b9-0e01-44f9-8058-06334efb9507"
      },
      "execution_count": null,
      "outputs": [
        {
          "output_type": "execute_result",
          "data": {
            "text/plain": [
              "Age_Group      0\n",
              "Age_Id         0\n",
              "Gender         0\n",
              "Governorate    0\n",
              "Nationality    0\n",
              "Region         0\n",
              "Pop            0\n",
              "dtype: int64"
            ]
          },
          "metadata": {},
          "execution_count": 44
        }
      ]
    },
    {
      "cell_type": "code",
      "source": [
        "# Conduct univariate analysis to understand the distribution of individual variables (e.g., listing prices, number of reviews, etc.).\n",
        "df.describe().transpose()"
      ],
      "metadata": {
        "id": "EDKMtDM47tei",
        "colab": {
          "base_uri": "https://localhost:8080/",
          "height": 112
        },
        "outputId": "fcfb6ab5-5ed4-460d-88b7-6b17c7b79a22"
      },
      "execution_count": null,
      "outputs": [
        {
          "output_type": "execute_result",
          "data": {
            "text/plain": [
              "          count      mean          std  min    25%   50%     75%       max\n",
              "Age_Id  10000.0   47.6060    28.797474  0.0  23.00  47.0   70.00     110.0\n",
              "Pop     10000.0  541.8719  2584.064353  1.0  11.75  61.0  266.25  106849.0"
            ],
            "text/html": [
              "\n",
              "  <div id=\"df-88df6f3a-6455-4876-9b40-60c29202171e\" class=\"colab-df-container\">\n",
              "    <div>\n",
              "<style scoped>\n",
              "    .dataframe tbody tr th:only-of-type {\n",
              "        vertical-align: middle;\n",
              "    }\n",
              "\n",
              "    .dataframe tbody tr th {\n",
              "        vertical-align: top;\n",
              "    }\n",
              "\n",
              "    .dataframe thead th {\n",
              "        text-align: right;\n",
              "    }\n",
              "</style>\n",
              "<table border=\"1\" class=\"dataframe\">\n",
              "  <thead>\n",
              "    <tr style=\"text-align: right;\">\n",
              "      <th></th>\n",
              "      <th>count</th>\n",
              "      <th>mean</th>\n",
              "      <th>std</th>\n",
              "      <th>min</th>\n",
              "      <th>25%</th>\n",
              "      <th>50%</th>\n",
              "      <th>75%</th>\n",
              "      <th>max</th>\n",
              "    </tr>\n",
              "  </thead>\n",
              "  <tbody>\n",
              "    <tr>\n",
              "      <th>Age_Id</th>\n",
              "      <td>10000.0</td>\n",
              "      <td>47.6060</td>\n",
              "      <td>28.797474</td>\n",
              "      <td>0.0</td>\n",
              "      <td>23.00</td>\n",
              "      <td>47.0</td>\n",
              "      <td>70.00</td>\n",
              "      <td>110.0</td>\n",
              "    </tr>\n",
              "    <tr>\n",
              "      <th>Pop</th>\n",
              "      <td>10000.0</td>\n",
              "      <td>541.8719</td>\n",
              "      <td>2584.064353</td>\n",
              "      <td>1.0</td>\n",
              "      <td>11.75</td>\n",
              "      <td>61.0</td>\n",
              "      <td>266.25</td>\n",
              "      <td>106849.0</td>\n",
              "    </tr>\n",
              "  </tbody>\n",
              "</table>\n",
              "</div>\n",
              "    <div class=\"colab-df-buttons\">\n",
              "\n",
              "  <div class=\"colab-df-container\">\n",
              "    <button class=\"colab-df-convert\" onclick=\"convertToInteractive('df-88df6f3a-6455-4876-9b40-60c29202171e')\"\n",
              "            title=\"Convert this dataframe to an interactive table.\"\n",
              "            style=\"display:none;\">\n",
              "\n",
              "  <svg xmlns=\"http://www.w3.org/2000/svg\" height=\"24px\" viewBox=\"0 -960 960 960\">\n",
              "    <path d=\"M120-120v-720h720v720H120Zm60-500h600v-160H180v160Zm220 220h160v-160H400v160Zm0 220h160v-160H400v160ZM180-400h160v-160H180v160Zm440 0h160v-160H620v160ZM180-180h160v-160H180v160Zm440 0h160v-160H620v160Z\"/>\n",
              "  </svg>\n",
              "    </button>\n",
              "\n",
              "  <style>\n",
              "    .colab-df-container {\n",
              "      display:flex;\n",
              "      gap: 12px;\n",
              "    }\n",
              "\n",
              "    .colab-df-convert {\n",
              "      background-color: #E8F0FE;\n",
              "      border: none;\n",
              "      border-radius: 50%;\n",
              "      cursor: pointer;\n",
              "      display: none;\n",
              "      fill: #1967D2;\n",
              "      height: 32px;\n",
              "      padding: 0 0 0 0;\n",
              "      width: 32px;\n",
              "    }\n",
              "\n",
              "    .colab-df-convert:hover {\n",
              "      background-color: #E2EBFA;\n",
              "      box-shadow: 0px 1px 2px rgba(60, 64, 67, 0.3), 0px 1px 3px 1px rgba(60, 64, 67, 0.15);\n",
              "      fill: #174EA6;\n",
              "    }\n",
              "\n",
              "    .colab-df-buttons div {\n",
              "      margin-bottom: 4px;\n",
              "    }\n",
              "\n",
              "    [theme=dark] .colab-df-convert {\n",
              "      background-color: #3B4455;\n",
              "      fill: #D2E3FC;\n",
              "    }\n",
              "\n",
              "    [theme=dark] .colab-df-convert:hover {\n",
              "      background-color: #434B5C;\n",
              "      box-shadow: 0px 1px 3px 1px rgba(0, 0, 0, 0.15);\n",
              "      filter: drop-shadow(0px 1px 2px rgba(0, 0, 0, 0.3));\n",
              "      fill: #FFFFFF;\n",
              "    }\n",
              "  </style>\n",
              "\n",
              "    <script>\n",
              "      const buttonEl =\n",
              "        document.querySelector('#df-88df6f3a-6455-4876-9b40-60c29202171e button.colab-df-convert');\n",
              "      buttonEl.style.display =\n",
              "        google.colab.kernel.accessAllowed ? 'block' : 'none';\n",
              "\n",
              "      async function convertToInteractive(key) {\n",
              "        const element = document.querySelector('#df-88df6f3a-6455-4876-9b40-60c29202171e');\n",
              "        const dataTable =\n",
              "          await google.colab.kernel.invokeFunction('convertToInteractive',\n",
              "                                                    [key], {});\n",
              "        if (!dataTable) return;\n",
              "\n",
              "        const docLinkHtml = 'Like what you see? Visit the ' +\n",
              "          '<a target=\"_blank\" href=https://colab.research.google.com/notebooks/data_table.ipynb>data table notebook</a>'\n",
              "          + ' to learn more about interactive tables.';\n",
              "        element.innerHTML = '';\n",
              "        dataTable['output_type'] = 'display_data';\n",
              "        await google.colab.output.renderOutput(dataTable, element);\n",
              "        const docLink = document.createElement('div');\n",
              "        docLink.innerHTML = docLinkHtml;\n",
              "        element.appendChild(docLink);\n",
              "      }\n",
              "    </script>\n",
              "  </div>\n",
              "\n",
              "\n",
              "<div id=\"df-060f19c9-5772-4c1e-a335-9af79d2556e4\">\n",
              "  <button class=\"colab-df-quickchart\" onclick=\"quickchart('df-060f19c9-5772-4c1e-a335-9af79d2556e4')\"\n",
              "            title=\"Suggest charts\"\n",
              "            style=\"display:none;\">\n",
              "\n",
              "<svg xmlns=\"http://www.w3.org/2000/svg\" height=\"24px\"viewBox=\"0 0 24 24\"\n",
              "     width=\"24px\">\n",
              "    <g>\n",
              "        <path d=\"M19 3H5c-1.1 0-2 .9-2 2v14c0 1.1.9 2 2 2h14c1.1 0 2-.9 2-2V5c0-1.1-.9-2-2-2zM9 17H7v-7h2v7zm4 0h-2V7h2v10zm4 0h-2v-4h2v4z\"/>\n",
              "    </g>\n",
              "</svg>\n",
              "  </button>\n",
              "\n",
              "<style>\n",
              "  .colab-df-quickchart {\n",
              "      --bg-color: #E8F0FE;\n",
              "      --fill-color: #1967D2;\n",
              "      --hover-bg-color: #E2EBFA;\n",
              "      --hover-fill-color: #174EA6;\n",
              "      --disabled-fill-color: #AAA;\n",
              "      --disabled-bg-color: #DDD;\n",
              "  }\n",
              "\n",
              "  [theme=dark] .colab-df-quickchart {\n",
              "      --bg-color: #3B4455;\n",
              "      --fill-color: #D2E3FC;\n",
              "      --hover-bg-color: #434B5C;\n",
              "      --hover-fill-color: #FFFFFF;\n",
              "      --disabled-bg-color: #3B4455;\n",
              "      --disabled-fill-color: #666;\n",
              "  }\n",
              "\n",
              "  .colab-df-quickchart {\n",
              "    background-color: var(--bg-color);\n",
              "    border: none;\n",
              "    border-radius: 50%;\n",
              "    cursor: pointer;\n",
              "    display: none;\n",
              "    fill: var(--fill-color);\n",
              "    height: 32px;\n",
              "    padding: 0;\n",
              "    width: 32px;\n",
              "  }\n",
              "\n",
              "  .colab-df-quickchart:hover {\n",
              "    background-color: var(--hover-bg-color);\n",
              "    box-shadow: 0 1px 2px rgba(60, 64, 67, 0.3), 0 1px 3px 1px rgba(60, 64, 67, 0.15);\n",
              "    fill: var(--button-hover-fill-color);\n",
              "  }\n",
              "\n",
              "  .colab-df-quickchart-complete:disabled,\n",
              "  .colab-df-quickchart-complete:disabled:hover {\n",
              "    background-color: var(--disabled-bg-color);\n",
              "    fill: var(--disabled-fill-color);\n",
              "    box-shadow: none;\n",
              "  }\n",
              "\n",
              "  .colab-df-spinner {\n",
              "    border: 2px solid var(--fill-color);\n",
              "    border-color: transparent;\n",
              "    border-bottom-color: var(--fill-color);\n",
              "    animation:\n",
              "      spin 1s steps(1) infinite;\n",
              "  }\n",
              "\n",
              "  @keyframes spin {\n",
              "    0% {\n",
              "      border-color: transparent;\n",
              "      border-bottom-color: var(--fill-color);\n",
              "      border-left-color: var(--fill-color);\n",
              "    }\n",
              "    20% {\n",
              "      border-color: transparent;\n",
              "      border-left-color: var(--fill-color);\n",
              "      border-top-color: var(--fill-color);\n",
              "    }\n",
              "    30% {\n",
              "      border-color: transparent;\n",
              "      border-left-color: var(--fill-color);\n",
              "      border-top-color: var(--fill-color);\n",
              "      border-right-color: var(--fill-color);\n",
              "    }\n",
              "    40% {\n",
              "      border-color: transparent;\n",
              "      border-right-color: var(--fill-color);\n",
              "      border-top-color: var(--fill-color);\n",
              "    }\n",
              "    60% {\n",
              "      border-color: transparent;\n",
              "      border-right-color: var(--fill-color);\n",
              "    }\n",
              "    80% {\n",
              "      border-color: transparent;\n",
              "      border-right-color: var(--fill-color);\n",
              "      border-bottom-color: var(--fill-color);\n",
              "    }\n",
              "    90% {\n",
              "      border-color: transparent;\n",
              "      border-bottom-color: var(--fill-color);\n",
              "    }\n",
              "  }\n",
              "</style>\n",
              "\n",
              "  <script>\n",
              "    async function quickchart(key) {\n",
              "      const quickchartButtonEl =\n",
              "        document.querySelector('#' + key + ' button');\n",
              "      quickchartButtonEl.disabled = true;  // To prevent multiple clicks.\n",
              "      quickchartButtonEl.classList.add('colab-df-spinner');\n",
              "      try {\n",
              "        const charts = await google.colab.kernel.invokeFunction(\n",
              "            'suggestCharts', [key], {});\n",
              "      } catch (error) {\n",
              "        console.error('Error during call to suggestCharts:', error);\n",
              "      }\n",
              "      quickchartButtonEl.classList.remove('colab-df-spinner');\n",
              "      quickchartButtonEl.classList.add('colab-df-quickchart-complete');\n",
              "    }\n",
              "    (() => {\n",
              "      let quickchartButtonEl =\n",
              "        document.querySelector('#df-060f19c9-5772-4c1e-a335-9af79d2556e4 button');\n",
              "      quickchartButtonEl.style.display =\n",
              "        google.colab.kernel.accessAllowed ? 'block' : 'none';\n",
              "    })();\n",
              "  </script>\n",
              "</div>\n",
              "\n",
              "    </div>\n",
              "  </div>\n"
            ],
            "application/vnd.google.colaboratory.intrinsic+json": {
              "type": "dataframe",
              "summary": "{\n  \"name\": \"df\",\n  \"rows\": 2,\n  \"fields\": [\n    {\n      \"column\": \"count\",\n      \"properties\": {\n        \"dtype\": \"number\",\n        \"std\": 0.0,\n        \"min\": 10000.0,\n        \"max\": 10000.0,\n        \"num_unique_values\": 1,\n        \"samples\": [\n          10000.0\n        ],\n        \"semantic_type\": \"\",\n        \"description\": \"\"\n      }\n    },\n    {\n      \"column\": \"mean\",\n      \"properties\": {\n        \"dtype\": \"number\",\n        \"std\": 349.49876959927195,\n        \"min\": 47.606,\n        \"max\": 541.8719,\n        \"num_unique_values\": 2,\n        \"samples\": [\n          541.8719\n        ],\n        \"semantic_type\": \"\",\n        \"description\": \"\"\n      }\n    },\n    {\n      \"column\": \"std\",\n      \"properties\": {\n        \"dtype\": \"number\",\n        \"std\": 1806.8465382488243,\n        \"min\": 28.79747373380771,\n        \"max\": 2584.064353252172,\n        \"num_unique_values\": 2,\n        \"samples\": [\n          2584.064353252172\n        ],\n        \"semantic_type\": \"\",\n        \"description\": \"\"\n      }\n    },\n    {\n      \"column\": \"min\",\n      \"properties\": {\n        \"dtype\": \"number\",\n        \"std\": 0.7071067811865476,\n        \"min\": 0.0,\n        \"max\": 1.0,\n        \"num_unique_values\": 2,\n        \"samples\": [\n          1.0\n        ],\n        \"semantic_type\": \"\",\n        \"description\": \"\"\n      }\n    },\n    {\n      \"column\": \"25%\",\n      \"properties\": {\n        \"dtype\": \"number\",\n        \"std\": 7.95495128834866,\n        \"min\": 11.75,\n        \"max\": 23.0,\n        \"num_unique_values\": 2,\n        \"samples\": [\n          11.75\n        ],\n        \"semantic_type\": \"\",\n        \"description\": \"\"\n      }\n    },\n    {\n      \"column\": \"50%\",\n      \"properties\": {\n        \"dtype\": \"number\",\n        \"std\": 9.899494936611665,\n        \"min\": 47.0,\n        \"max\": 61.0,\n        \"num_unique_values\": 2,\n        \"samples\": [\n          61.0\n        ],\n        \"semantic_type\": \"\",\n        \"description\": \"\"\n      }\n    },\n    {\n      \"column\": \"75%\",\n      \"properties\": {\n        \"dtype\": \"number\",\n        \"std\": 138.76970580785996,\n        \"min\": 70.0,\n        \"max\": 266.25,\n        \"num_unique_values\": 2,\n        \"samples\": [\n          266.25\n        ],\n        \"semantic_type\": \"\",\n        \"description\": \"\"\n      }\n    },\n    {\n      \"column\": \"max\",\n      \"properties\": {\n        \"dtype\": \"number\",\n        \"std\": 75475.8707170709,\n        \"min\": 110.0,\n        \"max\": 106849.0,\n        \"num_unique_values\": 2,\n        \"samples\": [\n          106849.0\n        ],\n        \"semantic_type\": \"\",\n        \"description\": \"\"\n      }\n    }\n  ]\n}"
            }
          },
          "metadata": {},
          "execution_count": 45
        }
      ]
    },
    {
      "cell_type": "code",
      "source": [
        "df['Age_Group'].unique()"
      ],
      "metadata": {
        "id": "mjDopTyDBgwu",
        "colab": {
          "base_uri": "https://localhost:8080/"
        },
        "outputId": "bf11cdfd-0c47-4b16-b7aa-190f2f6de3f6"
      },
      "execution_count": null,
      "outputs": [
        {
          "output_type": "execute_result",
          "data": {
            "text/plain": [
              "array(['60-64', '65-69', '15-19', '80-84', '55-59', '90-94', '75-79',\n",
              "       '0-4', '85-89', '50-54', '100+', '40-44', '20-24', '30-34',\n",
              "       '10-14', '45-49', '5-9', '35-39', '95-99', '25-29', '70-74'],\n",
              "      dtype=object)"
            ]
          },
          "metadata": {},
          "execution_count": 46
        }
      ]
    },
    {
      "cell_type": "code",
      "source": [
        "df['Governorate'].unique()"
      ],
      "metadata": {
        "id": "neYtuRimCWj5",
        "colab": {
          "base_uri": "https://localhost:8080/"
        },
        "outputId": "76dabc19-fb04-4e59-a835-33de679c6d7a"
      },
      "execution_count": null,
      "outputs": [
        {
          "output_type": "execute_result",
          "data": {
            "text/plain": [
              "array(['Uyun Al Jiwa', 'Al Bukayriyah', 'Al Majardah', 'Rabigh',\n",
              "       'An Namas', 'Mawqaq', 'Bahrah', 'Samtah', 'Al Khubar',\n",
              "       'Wadi Ad Dawasir', 'Tabuk', 'Al Jumum', 'Al Nuayriyah',\n",
              "       'Wadi Al Fara', 'Marat', 'Al Ardiyat', 'Ar Rayth', 'Al Aqiq',\n",
              "       'Al Taif', 'Al Asyah', 'Al Jubayl', 'Al Qunfudhah', 'Fayfa',\n",
              "       'Ranyah', 'Adam', 'Thadiq', 'Tubarjal', 'Al Bahah', 'Ras Tannurah',\n",
              "       'Thar', 'Maysan', 'Al Kamil', 'Farasan', 'Haqil', 'Al Badai',\n",
              "       'Al Qara', 'Ad Dammam', 'Al Khurmah', 'Ar Riyadh', 'Al Udayd',\n",
              "       'Baysh', 'Al Bad', 'Ad Darb', 'Buraydah', 'Al Kharj',\n",
              "       'Al Uwayqilah', 'Ar Rayn', 'Jeddah', 'Ar Rass',\n",
              "       'Dawamat Al Jandal', 'Damad', 'Uqlat As Suqur', 'Hubuna',\n",
              "       'Farat Ghamid Az Zinad', 'Al Aridah', 'Ad Duwadimi', 'Al Qurayyat',\n",
              "       'Ahad Rufaydah', 'Al Amoah', 'Arar', 'Ash Shamli', 'Al Ahsa',\n",
              "       'Hail', 'Bishah', 'Al Lith', 'Bariq', 'Hafar Al Batin', 'Harub',\n",
              "       'Makkah Al Mukarramah', 'At Tuwal', 'Sakaka', 'Tathlith',\n",
              "       'Al Madinah Al Munawwarah', 'Duba', 'Al Aydabi', 'Yanbu', 'Tayma',\n",
              "       'Qaryah Al Ulya', 'Al Ghazalah', 'Al Hait', 'Biljurashi', 'Tarib',\n",
              "       'Al Mandaq', 'Ash Shimasiyah', 'Rijal Al Ma', 'Turubah', 'Rumah',\n",
              "       'Qilwah', 'Yadamah', 'Duruma', 'Khamis Mushayt', 'Az Zulfi',\n",
              "       'As Sulaymi', 'Al Birk', 'Najran', 'Bani Hasan', 'Al Quwayiyah',\n",
              "       'Muhayil', 'Huraymila', 'Balqarn', 'Al Midhnab', 'Shaqra',\n",
              "       'Zahran Al Janub', 'Buqayq', 'Riyadh Al Khabra', 'Simira',\n",
              "       'Ash Shinan', 'Al Wajh', 'Abu Arish', 'Hawtat Bani Tamim',\n",
              "       'Khaybar', 'Umluj', 'An Nabhaniyah', 'Turayf', 'Al Majmaah',\n",
              "       'Badr Al Janub', 'Al Mahd', 'Khubash', 'Sharurah', 'Tanumah',\n",
              "       'Jazan', 'Baqa', 'Ad Diriyah', 'As Sulayyil', 'Al Khafji', 'Abha',\n",
              "       'Sarat Abidah', 'Dariyah', 'Al Hajrah', 'Ad Dair', 'Al Harjah',\n",
              "       'Afif', 'Al Aflaj', 'Al Is', 'Khulays', 'Unayzah', 'Al Mukhwah',\n",
              "       'Ad Dilam', 'Ahad Al Masarihah', 'Rafha', 'Al Muwayh', 'Al Ula',\n",
              "       'Al Ghat', 'Badr', 'Al Hariq', 'Al Muzahimiyah', 'Al Qatif',\n",
              "       'Al Hinakiyah', 'Sabya', 'Al Harth'], dtype=object)"
            ]
          },
          "metadata": {},
          "execution_count": 47
        }
      ]
    },
    {
      "cell_type": "code",
      "source": [
        "df['Gender'].value_counts()"
      ],
      "metadata": {
        "id": "mmlK1H28CjNg",
        "colab": {
          "base_uri": "https://localhost:8080/"
        },
        "outputId": "f87d9eb8-4525-41b1-962a-b786ceec2b78"
      },
      "execution_count": null,
      "outputs": [
        {
          "output_type": "execute_result",
          "data": {
            "text/plain": [
              "Female    5003\n",
              "Male      4997\n",
              "Name: Gender, dtype: int64"
            ]
          },
          "metadata": {},
          "execution_count": 48
        }
      ]
    },
    {
      "cell_type": "code",
      "source": [
        "total_population = df['Pop'].sum()\n",
        "total_population"
      ],
      "metadata": {
        "colab": {
          "base_uri": "https://localhost:8080/"
        },
        "id": "NCJr2dWPlaG4",
        "outputId": "501ca164-6425-4767-d388-c852ac8935ae"
      },
      "execution_count": null,
      "outputs": [
        {
          "output_type": "execute_result",
          "data": {
            "text/plain": [
              "5418719"
            ]
          },
          "metadata": {},
          "execution_count": 49
        }
      ]
    },
    {
      "cell_type": "code",
      "source": [
        "df['Age_Id'].max()"
      ],
      "metadata": {
        "colab": {
          "base_uri": "https://localhost:8080/"
        },
        "id": "tKOMYBO5rlRC",
        "outputId": "3f64a073-aec8-43d1-ea96-cfba16fc133c"
      },
      "execution_count": null,
      "outputs": [
        {
          "output_type": "execute_result",
          "data": {
            "text/plain": [
              "110"
            ]
          },
          "metadata": {},
          "execution_count": 50
        }
      ]
    },
    {
      "cell_type": "code",
      "source": [
        "import pandas as pd\n",
        "\n",
        "max_age_by_region = df.groupby('Region')['Age_Id'].max()\n",
        "region_with_highest_ages = max_age_by_region.idxmax()\n",
        "region_with_highest_ages"
      ],
      "metadata": {
        "colab": {
          "base_uri": "https://localhost:8080/",
          "height": 35
        },
        "id": "hz3pjpftrJvq",
        "outputId": "cd5eef57-c2ff-4bb1-ef79-129654c7ba33"
      },
      "execution_count": null,
      "outputs": [
        {
          "output_type": "execute_result",
          "data": {
            "text/plain": [
              "'Al Bahah'"
            ],
            "application/vnd.google.colaboratory.intrinsic+json": {
              "type": "string"
            }
          },
          "metadata": {},
          "execution_count": 51
        }
      ]
    },
    {
      "cell_type": "code",
      "source": [
        "# Create new features that might be useful for analysis (e.g., average rating, occupancy rate, etc.).\n",
        "import matplotlib.pyplot as plt\n",
        "import seaborn as sns\n",
        "plt.title('Nationality by Age')\n",
        "sns.barplot(x=\"Nationality\",y=\"Age_Id\", data=df);"
      ],
      "metadata": {
        "id": "snVeQVHAwR7f",
        "colab": {
          "base_uri": "https://localhost:8080/",
          "height": 472
        },
        "outputId": "a959ca99-645b-47ff-b128-c3280cba7d4e"
      },
      "execution_count": null,
      "outputs": [
        {
          "output_type": "display_data",
          "data": {
            "text/plain": [
              "<Figure size 640x480 with 1 Axes>"
            ],
            "image/png": "[encoded data removed]"
          },
          "metadata": {}
        }
      ]
    },
    {
      "cell_type": "code",
      "source": [
        "df['Nationality'].value_counts()"
      ],
      "metadata": {
        "colab": {
          "base_uri": "https://localhost:8080/"
        },
        "id": "dGoP1qYhaEqx",
        "outputId": "c3745ae8-0197-4238-863f-52a1e78e31b4"
      },
      "execution_count": null,
      "outputs": [
        {
          "output_type": "execute_result",
          "data": {
            "text/plain": [
              "Saudi        5589\n",
              "Non-Saudi    4411\n",
              "Name: Nationality, dtype: int64"
            ]
          },
          "metadata": {},
          "execution_count": 53
        }
      ]
    },
    {
      "cell_type": "code",
      "source": [
        "import pandas as pd\n",
        "\n",
        "nat= df.groupby(['Nationality', 'Gender']).size()\n",
        "for nationality in df['Nationality'].unique():\n",
        "    print(\"Nationality:\", nationality)\n",
        "    print(nat[nationality])\n"
      ],
      "metadata": {
        "colab": {
          "base_uri": "https://localhost:8080/"
        },
        "id": "NZ3JVh-nauxp",
        "outputId": "5398aaee-eceb-4f8b-c3d5-8d38f4c7b604"
      },
      "execution_count": null,
      "outputs": [
        {
          "output_type": "stream",
          "name": "stdout",
          "text": [
            "Nationality: Non-Saudi\n",
            "Gender\n",
            "Female    2171\n",
            "Male      2240\n",
            "dtype: int64\n",
            "Nationality: Saudi\n",
            "Gender\n",
            "Female    2832\n",
            "Male      2757\n",
            "dtype: int64\n"
          ]
        }
      ]
    },
    {
      "cell_type": "code",
      "source": [
        "import pandas as pd\n",
        "import matplotlib.pyplot as plt\n",
        "\n",
        "age = df['Age_Id']\n",
        "population = df['Pop']\n",
        "\n",
        "plt.scatter(age, population)\n",
        "\n",
        "plt.xlabel('Age_Id')\n",
        "plt.ylabel('Pop')\n",
        "plt.title('Population Density by Age')\n",
        "\n",
        "plt.show();"
      ],
      "metadata": {
        "id": "wfMsdw-Kyyio",
        "colab": {
          "base_uri": "https://localhost:8080/",
          "height": 472
        },
        "outputId": "676e3d28-c333-4010-bf3a-253db2eac30b"
      },
      "execution_count": null,
      "outputs": [
        {
          "output_type": "display_data",
          "data": {
            "text/plain": [
              "<Figure size 640x480 with 1 Axes>"
            ],
            "image/png": "[encoded data removed]"
          },
          "metadata": {}
        }
      ]
    },
    {
      "cell_type": "code",
      "source": [
        "import pandas as pd\n",
        "\n",
        "age_bins = [0, 18, 30, 50, float('inf')]\n",
        "age_labels = ['0-17', '18-29', '30-49', '50+']\n",
        "df['Age_Group'] = pd.cut(df['Age_Id'], bins=age_bins, labels=age_labels)\n",
        "\n",
        "age_group_population = df.groupby('Age_Group')['Pop'].sum()\n",
        "age_group_with_max_population = age_group_population.idxmax()\n",
        "\n",
        "print(\"Age group with maximum population:\", age_group_with_max_population)"
      ],
      "metadata": {
        "colab": {
          "base_uri": "https://localhost:8080/"
        },
        "id": "dK2sxEqO5uoH",
        "outputId": "4558e687-fa72-41c6-f687-34a22d6d6788"
      },
      "execution_count": null,
      "outputs": [
        {
          "output_type": "stream",
          "name": "stdout",
          "text": [
            "Age group with maximum population: 30-49\n"
          ]
        }
      ]
    },
    {
      "cell_type": "code",
      "source": [
        "import seaborn as sns\n",
        "import pandas as pd\n",
        "import matplotlib.pyplot as plt\n",
        "Region = df['Region']\n",
        "sns.kdeplot(Age, shade=True)\n",
        "plt.xlabel('Age_Id')\n",
        "plt.xticks(rotation=90)\n",
        "plt.title('Age Curve')\n",
        "plt.show();"
      ],
      "metadata": {
        "id": "LTJZ-NgE8IFg",
        "colab": {
          "base_uri": "https://localhost:8080/",
          "height": 591
        },
        "outputId": "18527262-1949-4110-ce99-dc0feb3ebcd3"
      },
      "execution_count": null,
      "outputs": [
        {
          "output_type": "stream",
          "name": "stderr",
          "text": [
            "<ipython-input-177-dee8e7bdb29e>:9: FutureWarning: \n",
            "\n",
            "`shade` is now deprecated in favor of `fill`; setting `fill=True`.\n",
            "This will become an error in seaborn v0.14.0; please update your code.\n",
            "\n",
            "  sns.kdeplot(Age, shade=True)\n"
          ]
        },
        {
          "output_type": "display_data",
          "data": {
            "text/plain": [
              "<Figure size 640x480 with 1 Axes>"
            ],
            "image/png": "[encoded data removed]"
          },
          "metadata": {}
        }
      ]
    },
    {
      "cell_type": "code",
      "source": [
        "import pandas as pd\n",
        "rbc=df['Region'].value_counts()\n",
        "rbc"
      ],
      "metadata": {
        "id": "0nNSWZJkOlGK",
        "colab": {
          "base_uri": "https://localhost:8080/"
        },
        "outputId": "b99c9c4a-c279-4f4e-d06d-7cd6779a698d"
      },
      "execution_count": null,
      "outputs": [
        {
          "output_type": "execute_result",
          "data": {
            "text/plain": [
              "Ar Riyadh                   1499\n",
              "Makkah Al Mukarramah        1208\n",
              "Jazan                       1195\n",
              "Aseer                       1189\n",
              "Eastern Region               831\n",
              "Al Qaseem                    813\n",
              "Al Bahah                     654\n",
              "Al Madinah Al Munawwarah     635\n",
              "Hail                         565\n",
              "Tabuk                        464\n",
              "Najran                       417\n",
              "Northern Borders             269\n",
              "Al Jawf                      261\n",
              "Name: Region, dtype: int64"
            ]
          },
          "metadata": {},
          "execution_count": 11
        }
      ]
    },
    {
      "cell_type": "code",
      "source": [
        "import matplotlib.pyplot as plt\n",
        "import seaborn as sns\n",
        "plt.xticks(rotation=90)\n",
        "plt.title('Region Repeatation')\n",
        "sns.barplot(rbc);"
      ],
      "metadata": {
        "colab": {
          "base_uri": "https://localhost:8080/",
          "height": 630
        },
        "id": "W_WQjz7leCxg",
        "outputId": "4c991f93-2884-43cd-d6f9-918ad30536b6"
      },
      "execution_count": null,
      "outputs": [
        {
          "output_type": "display_data",
          "data": {
            "text/plain": [
              "<Figure size 640x480 with 1 Axes>"
            ],
            "image/png": "[encoded data removed]"
          },
          "metadata": {}
        }
      ]
    },
    {
      "cell_type": "code",
      "source": [
        "import pandas as pd\n",
        "\n",
        "cal = df.groupby('Region')['Pop'].sum()\n",
        "cal"
      ],
      "metadata": {
        "colab": {
          "base_uri": "https://localhost:8080/"
        },
        "id": "ta-Q8mTBV5e_",
        "outputId": "22a83d4b-fa88-4fb5-c0be-85d9f6273e2f"
      },
      "execution_count": null,
      "outputs": [
        {
          "output_type": "execute_result",
          "data": {
            "text/plain": [
              "Region\n",
              "Al Bahah                      59656\n",
              "Al Jawf                       92543\n",
              "Al Madinah Al Munawwarah     441927\n",
              "Al Qaseem                    250482\n",
              "Ar Riyadh                   1013189\n",
              "Aseer                        388947\n",
              "Eastern Region               954288\n",
              "Hail                         153089\n",
              "Jazan                        245158\n",
              "Makkah Al Mukarramah        1541595\n",
              "Najran                       116708\n",
              "Northern Borders              63330\n",
              "Tabuk                        188331\n",
              "Name: Pop, dtype: int64"
            ]
          },
          "metadata": {},
          "execution_count": 165
        }
      ]
    },
    {
      "cell_type": "code",
      "source": [
        "import matplotlib.pyplot as plt\n",
        "import seaborn as sns\n",
        "plt.xticks(rotation=90)\n",
        "plt.title('The population Density of each Region')\n",
        "sns.barplot(cal);"
      ],
      "metadata": {
        "colab": {
          "base_uri": "https://localhost:8080/",
          "height": 650
        },
        "id": "HPx01WfRXZ3k",
        "outputId": "23b2213c-e298-4eb1-c8e3-a6cd23345d3e"
      },
      "execution_count": null,
      "outputs": [
        {
          "output_type": "display_data",
          "data": {
            "text/plain": [
              "<Figure size 640x480 with 1 Axes>"
            ],
            "image/png": "[encoded data removed]"
          },
          "metadata": {}
        }
      ]
    },
    {
      "cell_type": "code",
      "source": [
        "# Create new features that might be useful for analysis (e.g., average rating, occupancy rate, etc.).\n",
        "import pandas as pd\n",
        "df['Age_Population_Relationship'] = df['Age_Id'] / df['Pop']\n",
        "df"
      ],
      "metadata": {
        "colab": {
          "base_uri": "https://localhost:8080/",
          "height": 423
        },
        "id": "Jv8RelUBj8qB",
        "outputId": "31918bd8-75ad-44b9-e5a3-6ce0634724c5"
      },
      "execution_count": null,
      "outputs": [
        {
          "output_type": "execute_result",
          "data": {
            "text/plain": [
              "      Age_Group  Age_Id  Gender    Governorate Nationality          Region  \\\n",
              "51350     90-94      91  Female      Al Aridah       Saudi           Jazan   \n",
              "28880     45-49      48  Female       At Tuwal   Non-Saudi           Jazan   \n",
              "7232      10-14      12  Female      Al Harjah       Saudi           Aseer   \n",
              "49012     85-89      85    Male        Ar Rayn   Non-Saudi       Ar Riyadh   \n",
              "14238     20-24      24    Male  Ahad Rufaydah   Non-Saudi           Aseer   \n",
              "...         ...     ...     ...            ...         ...             ...   \n",
              "13543     20-24      22    Male           Thar       Saudi          Najran   \n",
              "45387     75-79      77  Female     Biljurashi       Saudi        Al Bahah   \n",
              "28138     45-49      47    Male      Al Khafji       Saudi  Eastern Region   \n",
              "36006     60-64      60  Female     Ash Shamli   Non-Saudi            Hail   \n",
              "53316     95-99      97  Female        Al Ahsa       Saudi  Eastern Region   \n",
              "\n",
              "       Pop  Age_Population_Relationship  \n",
              "51350    7                    13.000000  \n",
              "28880   15                     3.200000  \n",
              "7232   202                     0.059406  \n",
              "49012    1                    85.000000  \n",
              "14238  508                     0.047244  \n",
              "...    ...                          ...  \n",
              "13543   79                     0.278481  \n",
              "45387   42                     1.833333  \n",
              "28138  234                     0.200855  \n",
              "36006    4                    15.000000  \n",
              "53316   17                     5.705882  \n",
              "\n",
              "[10000 rows x 8 columns]"
            ],
            "text/html": [
              "\n",
              "  <div id=\"df-4b27253c-5c66-42ae-8fe3-2dfc440f8f30\" class=\"colab-df-container\">\n",
              "    <div>\n",
              "<style scoped>\n",
              "    .dataframe tbody tr th:only-of-type {\n",
              "        vertical-align: middle;\n",
              "    }\n",
              "\n",
              "    .dataframe tbody tr th {\n",
              "        vertical-align: top;\n",
              "    }\n",
              "\n",
              "    .dataframe thead th {\n",
              "        text-align: right;\n",
              "    }\n",
              "</style>\n",
              "<table border=\"1\" class=\"dataframe\">\n",
              "  <thead>\n",
              "    <tr style=\"text-align: right;\">\n",
              "      <th></th>\n",
              "      <th>Age_Group</th>\n",
              "      <th>Age_Id</th>\n",
              "      <th>Gender</th>\n",
              "      <th>Governorate</th>\n",
              "      <th>Nationality</th>\n",
              "      <th>Region</th>\n",
              "      <th>Pop</th>\n",
              "      <th>Age_Population_Relationship</th>\n",
              "    </tr>\n",
              "  </thead>\n",
              "  <tbody>\n",
              "    <tr>\n",
              "      <th>51350</th>\n",
              "      <td>90-94</td>\n",
              "      <td>91</td>\n",
              "      <td>Female</td>\n",
              "      <td>Al Aridah</td>\n",
              "      <td>Saudi</td>\n",
              "      <td>Jazan</td>\n",
              "      <td>7</td>\n",
              "      <td>13.000000</td>\n",
              "    </tr>\n",
              "    <tr>\n",
              "      <th>28880</th>\n",
              "      <td>45-49</td>\n",
              "      <td>48</td>\n",
              "      <td>Female</td>\n",
              "      <td>At Tuwal</td>\n",
              "      <td>Non-Saudi</td>\n",
              "      <td>Jazan</td>\n",
              "      <td>15</td>\n",
              "      <td>3.200000</td>\n",
              "    </tr>\n",
              "    <tr>\n",
              "      <th>7232</th>\n",
              "      <td>10-14</td>\n",
              "      <td>12</td>\n",
              "      <td>Female</td>\n",
              "      <td>Al Harjah</td>\n",
              "      <td>Saudi</td>\n",
              "      <td>Aseer</td>\n",
              "      <td>202</td>\n",
              "      <td>0.059406</td>\n",
              "    </tr>\n",
              "    <tr>\n",
              "      <th>49012</th>\n",
              "      <td>85-89</td>\n",
              "      <td>85</td>\n",
              "      <td>Male</td>\n",
              "      <td>Ar Rayn</td>\n",
              "      <td>Non-Saudi</td>\n",
              "      <td>Ar Riyadh</td>\n",
              "      <td>1</td>\n",
              "      <td>85.000000</td>\n",
              "    </tr>\n",
              "    <tr>\n",
              "      <th>14238</th>\n",
              "      <td>20-24</td>\n",
              "      <td>24</td>\n",
              "      <td>Male</td>\n",
              "      <td>Ahad Rufaydah</td>\n",
              "      <td>Non-Saudi</td>\n",
              "      <td>Aseer</td>\n",
              "      <td>508</td>\n",
              "      <td>0.047244</td>\n",
              "    </tr>\n",
              "    <tr>\n",
              "      <th>...</th>\n",
              "      <td>...</td>\n",
              "      <td>...</td>\n",
              "      <td>...</td>\n",
              "      <td>...</td>\n",
              "      <td>...</td>\n",
              "      <td>...</td>\n",
              "      <td>...</td>\n",
              "      <td>...</td>\n",
              "    </tr>\n",
              "    <tr>\n",
              "      <th>13543</th>\n",
              "      <td>20-24</td>\n",
              "      <td>22</td>\n",
              "      <td>Male</td>\n",
              "      <td>Thar</td>\n",
              "      <td>Saudi</td>\n",
              "      <td>Najran</td>\n",
              "      <td>79</td>\n",
              "      <td>0.278481</td>\n",
              "    </tr>\n",
              "    <tr>\n",
              "      <th>45387</th>\n",
              "      <td>75-79</td>\n",
              "      <td>77</td>\n",
              "      <td>Female</td>\n",
              "      <td>Biljurashi</td>\n",
              "      <td>Saudi</td>\n",
              "      <td>Al Bahah</td>\n",
              "      <td>42</td>\n",
              "      <td>1.833333</td>\n",
              "    </tr>\n",
              "    <tr>\n",
              "      <th>28138</th>\n",
              "      <td>45-49</td>\n",
              "      <td>47</td>\n",
              "      <td>Male</td>\n",
              "      <td>Al Khafji</td>\n",
              "      <td>Saudi</td>\n",
              "      <td>Eastern Region</td>\n",
              "      <td>234</td>\n",
              "      <td>0.200855</td>\n",
              "    </tr>\n",
              "    <tr>\n",
              "      <th>36006</th>\n",
              "      <td>60-64</td>\n",
              "      <td>60</td>\n",
              "      <td>Female</td>\n",
              "      <td>Ash Shamli</td>\n",
              "      <td>Non-Saudi</td>\n",
              "      <td>Hail</td>\n",
              "      <td>4</td>\n",
              "      <td>15.000000</td>\n",
              "    </tr>\n",
              "    <tr>\n",
              "      <th>53316</th>\n",
              "      <td>95-99</td>\n",
              "      <td>97</td>\n",
              "      <td>Female</td>\n",
              "      <td>Al Ahsa</td>\n",
              "      <td>Saudi</td>\n",
              "      <td>Eastern Region</td>\n",
              "      <td>17</td>\n",
              "      <td>5.705882</td>\n",
              "    </tr>\n",
              "  </tbody>\n",
              "</table>\n",
              "<p>10000 rows × 8 columns</p>\n",
              "</div>\n",
              "    <div class=\"colab-df-buttons\">\n",
              "\n",
              "  <div class=\"colab-df-container\">\n",
              "    <button class=\"colab-df-convert\" onclick=\"convertToInteractive('df-4b27253c-5c66-42ae-8fe3-2dfc440f8f30')\"\n",
              "            title=\"Convert this dataframe to an interactive table.\"\n",
              "            style=\"display:none;\">\n",
              "\n",
              "  <svg xmlns=\"http://www.w3.org/2000/svg\" height=\"24px\" viewBox=\"0 -960 960 960\">\n",
              "    <path d=\"M120-120v-720h720v720H120Zm60-500h600v-160H180v160Zm220 220h160v-160H400v160Zm0 220h160v-160H400v160ZM180-400h160v-160H180v160Zm440 0h160v-160H620v160ZM180-180h160v-160H180v160Zm440 0h160v-160H620v160Z\"/>\n",
              "  </svg>\n",
              "    </button>\n",
              "\n",
              "  <style>\n",
              "    .colab-df-container {\n",
              "      display:flex;\n",
              "      gap: 12px;\n",
              "    }\n",
              "\n",
              "    .colab-df-convert {\n",
              "      background-color: #E8F0FE;\n",
              "      border: none;\n",
              "      border-radius: 50%;\n",
              "      cursor: pointer;\n",
              "      display: none;\n",
              "      fill: #1967D2;\n",
              "      height: 32px;\n",
              "      padding: 0 0 0 0;\n",
              "      width: 32px;\n",
              "    }\n",
              "\n",
              "    .colab-df-convert:hover {\n",
              "      background-color: #E2EBFA;\n",
              "      box-shadow: 0px 1px 2px rgba(60, 64, 67, 0.3), 0px 1px 3px 1px rgba(60, 64, 67, 0.15);\n",
              "      fill: #174EA6;\n",
              "    }\n",
              "\n",
              "    .colab-df-buttons div {\n",
              "      margin-bottom: 4px;\n",
              "    }\n",
              "\n",
              "    [theme=dark] .colab-df-convert {\n",
              "      background-color: #3B4455;\n",
              "      fill: #D2E3FC;\n",
              "    }\n",
              "\n",
              "    [theme=dark] .colab-df-convert:hover {\n",
              "      background-color: #434B5C;\n",
              "      box-shadow: 0px 1px 3px 1px rgba(0, 0, 0, 0.15);\n",
              "      filter: drop-shadow(0px 1px 2px rgba(0, 0, 0, 0.3));\n",
              "      fill: #FFFFFF;\n",
              "    }\n",
              "  </style>\n",
              "\n",
              "    <script>\n",
              "      const buttonEl =\n",
              "        document.querySelector('#df-4b27253c-5c66-42ae-8fe3-2dfc440f8f30 button.colab-df-convert');\n",
              "      buttonEl.style.display =\n",
              "        google.colab.kernel.accessAllowed ? 'block' : 'none';\n",
              "\n",
              "      async function convertToInteractive(key) {\n",
              "        const element = document.querySelector('#df-4b27253c-5c66-42ae-8fe3-2dfc440f8f30');\n",
              "        const dataTable =\n",
              "          await google.colab.kernel.invokeFunction('convertToInteractive',\n",
              "                                                    [key], {});\n",
              "        if (!dataTable) return;\n",
              "\n",
              "        const docLinkHtml = 'Like what you see? Visit the ' +\n",
              "          '<a target=\"_blank\" href=https://colab.research.google.com/notebooks/data_table.ipynb>data table notebook</a>'\n",
              "          + ' to learn more about interactive tables.';\n",
              "        element.innerHTML = '';\n",
              "        dataTable['output_type'] = 'display_data';\n",
              "        await google.colab.output.renderOutput(dataTable, element);\n",
              "        const docLink = document.createElement('div');\n",
              "        docLink.innerHTML = docLinkHtml;\n",
              "        element.appendChild(docLink);\n",
              "      }\n",
              "    </script>\n",
              "  </div>\n",
              "\n",
              "\n",
              "<div id=\"df-b36298b5-43a5-4833-8913-0bbdd080a905\">\n",
              "  <button class=\"colab-df-quickchart\" onclick=\"quickchart('df-b36298b5-43a5-4833-8913-0bbdd080a905')\"\n",
              "            title=\"Suggest charts\"\n",
              "            style=\"display:none;\">\n",
              "\n",
              "<svg xmlns=\"http://www.w3.org/2000/svg\" height=\"24px\"viewBox=\"0 0 24 24\"\n",
              "     width=\"24px\">\n",
              "    <g>\n",
              "        <path d=\"M19 3H5c-1.1 0-2 .9-2 2v14c0 1.1.9 2 2 2h14c1.1 0 2-.9 2-2V5c0-1.1-.9-2-2-2zM9 17H7v-7h2v7zm4 0h-2V7h2v10zm4 0h-2v-4h2v4z\"/>\n",
              "    </g>\n",
              "</svg>\n",
              "  </button>\n",
              "\n",
              "<style>\n",
              "  .colab-df-quickchart {\n",
              "      --bg-color: #E8F0FE;\n",
              "      --fill-color: #1967D2;\n",
              "      --hover-bg-color: #E2EBFA;\n",
              "      --hover-fill-color: #174EA6;\n",
              "      --disabled-fill-color: #AAA;\n",
              "      --disabled-bg-color: #DDD;\n",
              "  }\n",
              "\n",
              "  [theme=dark] .colab-df-quickchart {\n",
              "      --bg-color: #3B4455;\n",
              "      --fill-color: #D2E3FC;\n",
              "      --hover-bg-color: #434B5C;\n",
              "      --hover-fill-color: #FFFFFF;\n",
              "      --disabled-bg-color: #3B4455;\n",
              "      --disabled-fill-color: #666;\n",
              "  }\n",
              "\n",
              "  .colab-df-quickchart {\n",
              "    background-color: var(--bg-color);\n",
              "    border: none;\n",
              "    border-radius: 50%;\n",
              "    cursor: pointer;\n",
              "    display: none;\n",
              "    fill: var(--fill-color);\n",
              "    height: 32px;\n",
              "    padding: 0;\n",
              "    width: 32px;\n",
              "  }\n",
              "\n",
              "  .colab-df-quickchart:hover {\n",
              "    background-color: var(--hover-bg-color);\n",
              "    box-shadow: 0 1px 2px rgba(60, 64, 67, 0.3), 0 1px 3px 1px rgba(60, 64, 67, 0.15);\n",
              "    fill: var(--button-hover-fill-color);\n",
              "  }\n",
              "\n",
              "  .colab-df-quickchart-complete:disabled,\n",
              "  .colab-df-quickchart-complete:disabled:hover {\n",
              "    background-color: var(--disabled-bg-color);\n",
              "    fill: var(--disabled-fill-color);\n",
              "    box-shadow: none;\n",
              "  }\n",
              "\n",
              "  .colab-df-spinner {\n",
              "    border: 2px solid var(--fill-color);\n",
              "    border-color: transparent;\n",
              "    border-bottom-color: var(--fill-color);\n",
              "    animation:\n",
              "      spin 1s steps(1) infinite;\n",
              "  }\n",
              "\n",
              "  @keyframes spin {\n",
              "    0% {\n",
              "      border-color: transparent;\n",
              "      border-bottom-color: var(--fill-color);\n",
              "      border-left-color: var(--fill-color);\n",
              "    }\n",
              "    20% {\n",
              "      border-color: transparent;\n",
              "      border-left-color: var(--fill-color);\n",
              "      border-top-color: var(--fill-color);\n",
              "    }\n",
              "    30% {\n",
              "      border-color: transparent;\n",
              "      border-left-color: var(--fill-color);\n",
              "      border-top-color: var(--fill-color);\n",
              "      border-right-color: var(--fill-color);\n",
              "    }\n",
              "    40% {\n",
              "      border-color: transparent;\n",
              "      border-right-color: var(--fill-color);\n",
              "      border-top-color: var(--fill-color);\n",
              "    }\n",
              "    60% {\n",
              "      border-color: transparent;\n",
              "      border-right-color: var(--fill-color);\n",
              "    }\n",
              "    80% {\n",
              "      border-color: transparent;\n",
              "      border-right-color: var(--fill-color);\n",
              "      border-bottom-color: var(--fill-color);\n",
              "    }\n",
              "    90% {\n",
              "      border-color: transparent;\n",
              "      border-bottom-color: var(--fill-color);\n",
              "    }\n",
              "  }\n",
              "</style>\n",
              "\n",
              "  <script>\n",
              "    async function quickchart(key) {\n",
              "      const quickchartButtonEl =\n",
              "        document.querySelector('#' + key + ' button');\n",
              "      quickchartButtonEl.disabled = true;  // To prevent multiple clicks.\n",
              "      quickchartButtonEl.classList.add('colab-df-spinner');\n",
              "      try {\n",
              "        const charts = await google.colab.kernel.invokeFunction(\n",
              "            'suggestCharts', [key], {});\n",
              "      } catch (error) {\n",
              "        console.error('Error during call to suggestCharts:', error);\n",
              "      }\n",
              "      quickchartButtonEl.classList.remove('colab-df-spinner');\n",
              "      quickchartButtonEl.classList.add('colab-df-quickchart-complete');\n",
              "    }\n",
              "    (() => {\n",
              "      let quickchartButtonEl =\n",
              "        document.querySelector('#df-b36298b5-43a5-4833-8913-0bbdd080a905 button');\n",
              "      quickchartButtonEl.style.display =\n",
              "        google.colab.kernel.accessAllowed ? 'block' : 'none';\n",
              "    })();\n",
              "  </script>\n",
              "</div>\n",
              "\n",
              "  <div id=\"id_2aa21326-1479-4a6b-9c89-efcfddb3b056\">\n",
              "    <style>\n",
              "      .colab-df-generate {\n",
              "        background-color: #E8F0FE;\n",
              "        border: none;\n",
              "        border-radius: 50%;\n",
              "        cursor: pointer;\n",
              "        display: none;\n",
              "        fill: #1967D2;\n",
              "        height: 32px;\n",
              "        padding: 0 0 0 0;\n",
              "        width: 32px;\n",
              "      }\n",
              "\n",
              "      .colab-df-generate:hover {\n",
              "        background-color: #E2EBFA;\n",
              "        box-shadow: 0px 1px 2px rgba(60, 64, 67, 0.3), 0px 1px 3px 1px rgba(60, 64, 67, 0.15);\n",
              "        fill: #174EA6;\n",
              "      }\n",
              "\n",
              "      [theme=dark] .colab-df-generate {\n",
              "        background-color: #3B4455;\n",
              "        fill: #D2E3FC;\n",
              "      }\n",
              "\n",
              "      [theme=dark] .colab-df-generate:hover {\n",
              "        background-color: #434B5C;\n",
              "        box-shadow: 0px 1px 3px 1px rgba(0, 0, 0, 0.15);\n",
              "        filter: drop-shadow(0px 1px 2px rgba(0, 0, 0, 0.3));\n",
              "        fill: #FFFFFF;\n",
              "      }\n",
              "    </style>\n",
              "    <button class=\"colab-df-generate\" onclick=\"generateWithVariable('df')\"\n",
              "            title=\"Generate code using this dataframe.\"\n",
              "            style=\"display:none;\">\n",
              "\n",
              "  <svg xmlns=\"http://www.w3.org/2000/svg\" height=\"24px\"viewBox=\"0 0 24 24\"\n",
              "       width=\"24px\">\n",
              "    <path d=\"M7,19H8.4L18.45,9,17,7.55,7,17.6ZM5,21V16.75L18.45,3.32a2,2,0,0,1,2.83,0l1.4,1.43a1.91,1.91,0,0,1,.58,1.4,1.91,1.91,0,0,1-.58,1.4L9.25,21ZM18.45,9,17,7.55Zm-12,3A5.31,5.31,0,0,0,4.9,8.1,5.31,5.31,0,0,0,1,6.5,5.31,5.31,0,0,0,4.9,4.9,5.31,5.31,0,0,0,6.5,1,5.31,5.31,0,0,0,8.1,4.9,5.31,5.31,0,0,0,12,6.5,5.46,5.46,0,0,0,6.5,12Z\"/>\n",
              "  </svg>\n",
              "    </button>\n",
              "    <script>\n",
              "      (() => {\n",
              "      const buttonEl =\n",
              "        document.querySelector('#id_2aa21326-1479-4a6b-9c89-efcfddb3b056 button.colab-df-generate');\n",
              "      buttonEl.style.display =\n",
              "        google.colab.kernel.accessAllowed ? 'block' : 'none';\n",
              "\n",
              "      buttonEl.onclick = () => {\n",
              "        google.colab.notebook.generateWithVariable('df');\n",
              "      }\n",
              "      })();\n",
              "    </script>\n",
              "  </div>\n",
              "\n",
              "    </div>\n",
              "  </div>\n"
            ],
            "application/vnd.google.colaboratory.intrinsic+json": {
              "type": "dataframe",
              "variable_name": "df",
              "summary": "{\n  \"name\": \"df\",\n  \"rows\": 10000,\n  \"fields\": [\n    {\n      \"column\": \"Age_Group\",\n      \"properties\": {\n        \"dtype\": \"category\",\n        \"num_unique_values\": 21,\n        \"samples\": [\n          \"90-94\",\n          \"65-69\",\n          \"50-54\"\n        ],\n        \"semantic_type\": \"\",\n        \"description\": \"\"\n      }\n    },\n    {\n      \"column\": \"Age_Id\",\n      \"properties\": {\n        \"dtype\": \"number\",\n        \"std\": 28,\n        \"min\": 0,\n        \"max\": 110,\n        \"num_unique_values\": 111,\n        \"samples\": [\n          75,\n          41,\n          24\n        ],\n        \"semantic_type\": \"\",\n        \"description\": \"\"\n      }\n    },\n    {\n      \"column\": \"Gender\",\n      \"properties\": {\n        \"dtype\": \"category\",\n        \"num_unique_values\": 2,\n        \"samples\": [\n          \"Male\",\n          \"Female\"\n        ],\n        \"semantic_type\": \"\",\n        \"description\": \"\"\n      }\n    },\n    {\n      \"column\": \"Governorate\",\n      \"properties\": {\n        \"dtype\": \"category\",\n        \"num_unique_values\": 150,\n        \"samples\": [\n          \"Ahad Al Masarihah\",\n          \"Al Hait\"\n        ],\n        \"semantic_type\": \"\",\n        \"description\": \"\"\n      }\n    },\n    {\n      \"column\": \"Nationality\",\n      \"properties\": {\n        \"dtype\": \"category\",\n        \"num_unique_values\": 2,\n        \"samples\": [\n          \"Non-Saudi\",\n          \"Saudi\"\n        ],\n        \"semantic_type\": \"\",\n        \"description\": \"\"\n      }\n    },\n    {\n      \"column\": \"Region\",\n      \"properties\": {\n        \"dtype\": \"category\",\n        \"num_unique_values\": 13,\n        \"samples\": [\n          \"Al Bahah\",\n          \"Al Madinah Al Munawwarah\"\n        ],\n        \"semantic_type\": \"\",\n        \"description\": \"\"\n      }\n    },\n    {\n      \"column\": \"Pop\",\n      \"properties\": {\n        \"dtype\": \"number\",\n        \"std\": 2230,\n        \"min\": 1,\n        \"max\": 43605,\n        \"num_unique_values\": 1629,\n        \"samples\": [\n          176,\n          739\n        ],\n        \"semantic_type\": \"\",\n        \"description\": \"\"\n      }\n    },\n    {\n      \"column\": \"Age_Population_Relationship\",\n      \"properties\": {\n        \"dtype\": \"number\",\n        \"std\": 22.037035484392874,\n        \"min\": 0.0,\n        \"max\": 110.0,\n        \"num_unique_values\": 5927,\n        \"samples\": [\n          0.18303571428571427,\n          0.6761904761904762\n        ],\n        \"semantic_type\": \"\",\n        \"description\": \"\"\n      }\n    }\n  ]\n}"
            }
          },
          "metadata": {},
          "execution_count": 224
        }
      ]
    },
    {
      "cell_type": "code",
      "source": [
        "df.loc[:,['Age_Id', 'Pop']].mean()"
      ],
      "metadata": {
        "colab": {
          "base_uri": "https://localhost:8080/"
        },
        "id": "TDCcOL_QTAzf",
        "outputId": "6d1a7409-6110-48b4-ef11-fe460396d622"
      },
      "execution_count": null,
      "outputs": [
        {
          "output_type": "execute_result",
          "data": {
            "text/plain": [
              "Age_Id     47.1653\n",
              "Pop       568.1604\n",
              "dtype: float64"
            ]
          },
          "metadata": {},
          "execution_count": 145
        }
      ]
    },
    {
      "cell_type": "code",
      "source": [
        "%matplotlib inline\n",
        "\n",
        "df.loc[:,['Age_Id', 'Pop']].mean().plot(kind='bar')\n",
        "plt.title('Mean of Age & Population')\n"
      ],
      "metadata": {
        "colab": {
          "base_uri": "https://localhost:8080/",
          "height": 502
        },
        "id": "U5eNcxMCTMBK",
        "outputId": "ad15626f-90cf-4b51-bd2f-a2110cc323b4"
      },
      "execution_count": null,
      "outputs": [
        {
          "output_type": "execute_result",
          "data": {
            "text/plain": [
              "Text(0.5, 1.0, 'Mean of Age & Population')"
            ]
          },
          "metadata": {},
          "execution_count": 175
        },
        {
          "output_type": "display_data",
          "data": {
            "text/plain": [
              "<Figure size 640x480 with 1 Axes>"
            ],
            "image/png": "[encoded data removed]"
          },
          "metadata": {}
        }
      ]
    },
    {
      "cell_type": "code",
      "source": [
        "df.loc[:,['Age_Id', 'Pop']].median()"
      ],
      "metadata": {
        "colab": {
          "base_uri": "https://localhost:8080/"
        },
        "id": "bHBfTg-Lcqa3",
        "outputId": "3c4b8667-a864-4b06-8efa-fae96acdfdfa"
      },
      "execution_count": null,
      "outputs": [
        {
          "output_type": "execute_result",
          "data": {
            "text/plain": [
              "Age_Id    46.0\n",
              "Pop       62.0\n",
              "dtype: float64"
            ]
          },
          "metadata": {},
          "execution_count": 199
        }
      ]
    },
    {
      "cell_type": "code",
      "source": [
        "%matplotlib inline\n",
        "\n",
        "df.loc[:,['Age_Id', 'Pop']].median().plot(kind='bar')\n",
        "plt.title('Median of Age & Population')"
      ],
      "metadata": {
        "colab": {
          "base_uri": "https://localhost:8080/",
          "height": 502
        },
        "id": "XLTYdrwycwLZ",
        "outputId": "7557ad39-14ca-4d12-b71e-967a1a0574e4"
      },
      "execution_count": null,
      "outputs": [
        {
          "output_type": "execute_result",
          "data": {
            "text/plain": [
              "Text(0.5, 1.0, 'Median of Age & Population')"
            ]
          },
          "metadata": {},
          "execution_count": 200
        },
        {
          "output_type": "display_data",
          "data": {
            "text/plain": [
              "<Figure size 640x480 with 1 Axes>"
            ],
            "image/png": "[encoded data removed]"
          },
          "metadata": {}
        }
      ]
    },
    {
      "cell_type": "code",
      "source": [
        "import pandas as pd\n",
        "\n",
        "unique_ages = df['Age_Id'].value_counts()\n",
        "\n",
        "print(unique_ages)"
      ],
      "metadata": {
        "colab": {
          "base_uri": "https://localhost:8080/"
        },
        "id": "dHbAPmY9gotk",
        "outputId": "17187661-3dd0-4479-a719-bde935d9e759"
      },
      "execution_count": null,
      "outputs": [
        {
          "output_type": "stream",
          "name": "stdout",
          "text": [
            "34     130\n",
            "4      129\n",
            "12     127\n",
            "52     125\n",
            "47     122\n",
            "      ... \n",
            "109     30\n",
            "104     22\n",
            "108     22\n",
            "107     17\n",
            "110     13\n",
            "Name: Age_Id, Length: 111, dtype: int64\n"
          ]
        }
      ]
    },
    {
      "cell_type": "code",
      "source": [
        "import pandas as pd\n",
        "age_by_region = df.groupby('Region')['Age_Group'].unique()\n",
        "for region, age in age_by_region.items():\n",
        "    print(\"Region:\", region)\n",
        "    print(\"Age_Group:\", age)"
      ],
      "metadata": {
        "colab": {
          "base_uri": "https://localhost:8080/"
        },
        "id": "cZn4vCPUosPK",
        "outputId": "83d18a30-8c46-40eb-d38c-a0c1df754c31"
      },
      "execution_count": null,
      "outputs": [
        {
          "output_type": "stream",
          "name": "stdout",
          "text": [
            "Region: Al Bahah\n",
            "Age_Group: ['60-64' '20-24' '40-44' '70-74' '15-19' '30-34' '5-9' '55-59' '45-49'\n",
            " '85-89' '50-54' '95-99' '25-29' '75-79' '100+' '90-94' '35-39' '10-14'\n",
            " '65-69' '80-84' '0-4']\n",
            "Region: Al Jawf\n",
            "Age_Group: ['0-4' '85-89' '20-24' '10-14' '80-84' '45-49' '55-59' '90-94' '100+'\n",
            " '95-99' '65-69' '35-39' '75-79' '5-9' '40-44' '60-64' '25-29' '15-19'\n",
            " '50-54' '30-34' '70-74']\n",
            "Region: Al Madinah Al Munawwarah\n",
            "Age_Group: ['65-69' '0-4' '35-39' '95-99' '45-49' '80-84' '55-59' '25-29' '5-9'\n",
            " '20-24' '85-89' '30-34' '50-54' '70-74' '90-94' '15-19' '10-14' '60-64'\n",
            " '40-44' '100+' '75-79']\n",
            "Region: Al Qaseem\n",
            "Age_Group: ['100+' '50-54' '75-79' '90-94' '0-4' '30-34' '55-59' '60-64' '40-44'\n",
            " '10-14' '5-9' '95-99' '65-69' '80-84' '20-24' '15-19' '25-29' '35-39'\n",
            " '85-89' '45-49' '70-74']\n",
            "Region: Ar Riyadh\n",
            "Age_Group: ['20-24' '75-79' '65-69' '60-64' '15-19' '40-44' '100+' '50-54' '55-59'\n",
            " '45-49' '30-34' '95-99' '5-9' '90-94' '85-89' '35-39' '80-84' '70-74'\n",
            " '0-4' '10-14' '25-29']\n",
            "Region: Aseer\n",
            "Age_Group: ['50-54' '35-39' '65-69' '45-49' '70-74' '55-59' '60-64' '5-9' '95-99'\n",
            " '40-44' '80-84' '75-79' '20-24' '25-29' '10-14' '15-19' '90-94' '0-4'\n",
            " '100+' '30-34' '85-89']\n",
            "Region: Eastern Region\n",
            "Age_Group: ['70-74' '85-89' '5-9' '90-94' '50-54' '30-34' '20-24' '75-79' '65-69'\n",
            " '95-99' '40-44' '25-29' '45-49' '60-64' '10-14' '100+' '0-4' '80-84'\n",
            " '55-59' '15-19' '35-39']\n",
            "Region: Hail\n",
            "Age_Group: ['90-94' '45-49' '65-69' '30-34' '75-79' '35-39' '20-24' '55-59' '80-84'\n",
            " '60-64' '85-89' '25-29' '95-99' '15-19' '5-9' '10-14' '50-54' '40-44'\n",
            " '0-4' '70-74' '100+']\n",
            "Region: Jazan\n",
            "Age_Group: ['55-59' '85-89' '35-39' '0-4' '20-24' '45-49' '50-54' '80-84' '40-44'\n",
            " '70-74' '10-14' '25-29' '65-69' '90-94' '15-19' '60-64' '30-34' '5-9'\n",
            " '95-99' '75-79' '100+']\n",
            "Region: Makkah Al Mukarramah\n",
            "Age_Group: ['45-49' '10-14' '100+' '40-44' '55-59' '50-54' '0-4' '5-9' '15-19'\n",
            " '35-39' '95-99' '90-94' '85-89' '60-64' '80-84' '25-29' '20-24' '70-74'\n",
            " '75-79' '30-34' '65-69']\n",
            "Region: Najran\n",
            "Age_Group: ['35-39' '30-34' '15-19' '65-69' '25-29' '100+' '80-84' '20-24' '10-14'\n",
            " '60-64' '55-59' '40-44' '0-4' '50-54' '95-99' '90-94' '70-74' '5-9'\n",
            " '45-49' '75-79' '85-89']\n",
            "Region: Northern Borders\n",
            "Age_Group: ['0-4' '60-64' '35-39' '95-99' '85-89' '55-59' '10-14' '100+' '45-49'\n",
            " '65-69' '15-19' '50-54' '25-29' '80-84' '30-34' '75-79' '40-44' '70-74'\n",
            " '5-9' '90-94' '20-24']\n",
            "Region: Tabuk\n",
            "Age_Group: ['50-54' '30-34' '15-19' '55-59' '20-24' '5-9' '100+' '65-69' '75-79'\n",
            " '0-4' '35-39' '80-84' '60-64' '45-49' '85-89' '95-99' '90-94' '40-44'\n",
            " '25-29' '70-74' '10-14']\n"
          ]
        }
      ]
    },
    {
      "cell_type": "code",
      "source": [
        "age_groups = pd.cut(df['Age_Id'], bins=[0, 18, 30, 50, float('inf')], labels=['0-17', '18-29', '30-49','+50'])\n",
        "age_group_counts = age_groups.value_counts()\n",
        "print('Population Distribution by Age Group:')\n",
        "age_group_counts"
      ],
      "metadata": {
        "colab": {
          "base_uri": "https://localhost:8080/"
        },
        "id": "jFllk_FWlfDH",
        "outputId": "0eaef342-a38a-4118-dab2-787ce5056ff6"
      },
      "execution_count": null,
      "outputs": [
        {
          "output_type": "stream",
          "name": "stdout",
          "text": [
            "Population Distribution by Age Group:\n"
          ]
        },
        {
          "output_type": "execute_result",
          "data": {
            "text/plain": [
              "+50      4554\n",
              "30-49    2096\n",
              "0-17     1945\n",
              "18-29    1297\n",
              "Name: Age_Id, dtype: int64"
            ]
          },
          "metadata": {},
          "execution_count": 9
        }
      ]
    }
  ]
}